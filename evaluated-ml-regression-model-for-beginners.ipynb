{
 "cells": [
  {
   "cell_type": "markdown",
   "metadata": {
    "papermill": {
     "duration": 0.059975,
     "end_time": "2021-01-14T12:34:47.507690",
     "exception": false,
     "start_time": "2021-01-14T12:34:47.447715",
     "status": "completed"
    },
    "tags": []
   },
   "source": [
    "# Evaluated Machine Learning Regression Model for Beginners"
   ]
  },
  {
   "cell_type": "markdown",
   "metadata": {
    "papermill": {
     "duration": 0.057767,
     "end_time": "2021-01-14T12:34:47.623687",
     "exception": false,
     "start_time": "2021-01-14T12:34:47.565920",
     "status": "completed"
    },
    "tags": []
   },
   "source": [
    "### Importing the basic Libraries"
   ]
  },
  {
   "cell_type": "code",
   "execution_count": 1,
   "metadata": {
    "_cell_guid": "b1076dfc-b9ad-4769-8c92-a6c4dae69d19",
    "_uuid": "8f2839f25d086af736a60e9eeb907d3b93b6e0e5",
    "execution": {
     "iopub.execute_input": "2021-01-14T12:34:47.743666Z",
     "iopub.status.busy": "2021-01-14T12:34:47.742993Z",
     "iopub.status.idle": "2021-01-14T12:34:48.697909Z",
     "shell.execute_reply": "2021-01-14T12:34:48.698490Z"
    },
    "papermill": {
     "duration": 1.016957,
     "end_time": "2021-01-14T12:34:48.698651",
     "exception": false,
     "start_time": "2021-01-14T12:34:47.681694",
     "status": "completed"
    },
    "tags": []
   },
   "outputs": [
    {
     "name": "stdout",
     "output_type": "stream",
     "text": [
      "/kaggle/input/bigmart-sales-data/Train.csv\n",
      "/kaggle/input/bigmart-sales-data/Test.csv\n"
     ]
    }
   ],
   "source": [
    "# This Python 3 environment comes with many helpful analytics libraries installed\n",
    "# It is defined by the kaggle/python Docker image: https://github.com/kaggle/docker-python\n",
    "# For example, here's several helpful packages to load\n",
    "\n",
    "import numpy as np # linear algebra\n",
    "import pandas as pd # data processing, CSV file I/O (e.g. pd.read_csv)\n",
    "import seaborn as sns\n",
    "import matplotlib.pyplot as plt\n",
    "\n",
    "# Input data files are available in the read-only \"../input/\" directory\n",
    "# For example, running this (by clicking run or pressing Shift+Enter) will list all files under the input directory\n",
    "\n",
    "import os\n",
    "for dirname, _, filenames in os.walk('/kaggle/input'):\n",
    "    for filename in filenames:\n",
    "        print(os.path.join(dirname, filename))\n",
    "\n",
    "# You can write up to 20GB to the current directory (/kaggle/working/) that gets preserved as output when you create a version using \"Save & Run All\" \n",
    "# You can also write temporary files to /kaggle/temp/, but they won't be saved outside of the current session"
   ]
  },
  {
   "cell_type": "markdown",
   "metadata": {
    "papermill": {
     "duration": 0.060023,
     "end_time": "2021-01-14T12:34:48.818994",
     "exception": false,
     "start_time": "2021-01-14T12:34:48.758971",
     "status": "completed"
    },
    "tags": []
   },
   "source": [
    "#### Data Importing as train and test"
   ]
  },
  {
   "cell_type": "code",
   "execution_count": 2,
   "metadata": {
    "_cell_guid": "79c7e3d0-c299-4dcb-8224-4455121ee9b0",
    "_uuid": "d629ff2d2480ee46fbb7e2d37f6b5fab8052498a",
    "execution": {
     "iopub.execute_input": "2021-01-14T12:34:48.941525Z",
     "iopub.status.busy": "2021-01-14T12:34:48.940905Z",
     "iopub.status.idle": "2021-01-14T12:34:49.015235Z",
     "shell.execute_reply": "2021-01-14T12:34:49.015749Z"
    },
    "papermill": {
     "duration": 0.137091,
     "end_time": "2021-01-14T12:34:49.015886",
     "exception": false,
     "start_time": "2021-01-14T12:34:48.878795",
     "status": "completed"
    },
    "tags": []
   },
   "outputs": [],
   "source": [
    "train = pd.read_csv(\"/kaggle/input/bigmart-sales-data/Train.csv\")\n",
    "test = pd.read_csv(\"/kaggle/input/bigmart-sales-data/Test.csv\")"
   ]
  },
  {
   "cell_type": "code",
   "execution_count": 3,
   "metadata": {
    "execution": {
     "iopub.execute_input": "2021-01-14T12:34:49.137652Z",
     "iopub.status.busy": "2021-01-14T12:34:49.137071Z",
     "iopub.status.idle": "2021-01-14T12:34:49.144020Z",
     "shell.execute_reply": "2021-01-14T12:34:49.143403Z"
    },
    "papermill": {
     "duration": 0.068929,
     "end_time": "2021-01-14T12:34:49.144146",
     "exception": false,
     "start_time": "2021-01-14T12:34:49.075217",
     "status": "completed"
    },
    "tags": []
   },
   "outputs": [
    {
     "data": {
      "text/plain": [
       "((8523, 12), (5681, 11))"
      ]
     },
     "execution_count": 3,
     "metadata": {},
     "output_type": "execute_result"
    }
   ],
   "source": [
    "train.shape, test.shape"
   ]
  },
  {
   "cell_type": "code",
   "execution_count": 4,
   "metadata": {
    "execution": {
     "iopub.execute_input": "2021-01-14T12:34:49.268815Z",
     "iopub.status.busy": "2021-01-14T12:34:49.267844Z",
     "iopub.status.idle": "2021-01-14T12:34:49.297817Z",
     "shell.execute_reply": "2021-01-14T12:34:49.297286Z"
    },
    "papermill": {
     "duration": 0.093068,
     "end_time": "2021-01-14T12:34:49.297921",
     "exception": false,
     "start_time": "2021-01-14T12:34:49.204853",
     "status": "completed"
    },
    "tags": []
   },
   "outputs": [
    {
     "name": "stdout",
     "output_type": "stream",
     "text": [
      "<class 'pandas.core.frame.DataFrame'>\n",
      "RangeIndex: 5681 entries, 0 to 5680\n",
      "Data columns (total 11 columns):\n",
      " #   Column                     Non-Null Count  Dtype  \n",
      "---  ------                     --------------  -----  \n",
      " 0   Item_Identifier            5681 non-null   object \n",
      " 1   Item_Weight                4705 non-null   float64\n",
      " 2   Item_Fat_Content           5681 non-null   object \n",
      " 3   Item_Visibility            5681 non-null   float64\n",
      " 4   Item_Type                  5681 non-null   object \n",
      " 5   Item_MRP                   5681 non-null   float64\n",
      " 6   Outlet_Identifier          5681 non-null   object \n",
      " 7   Outlet_Establishment_Year  5681 non-null   int64  \n",
      " 8   Outlet_Size                4075 non-null   object \n",
      " 9   Outlet_Location_Type       5681 non-null   object \n",
      " 10  Outlet_Type                5681 non-null   object \n",
      "dtypes: float64(3), int64(1), object(7)\n",
      "memory usage: 488.3+ KB\n"
     ]
    }
   ],
   "source": [
    "test.info()"
   ]
  },
  {
   "cell_type": "markdown",
   "metadata": {
    "papermill": {
     "duration": 0.06038,
     "end_time": "2021-01-14T12:34:49.417714",
     "exception": false,
     "start_time": "2021-01-14T12:34:49.357334",
     "status": "completed"
    },
    "tags": []
   },
   "source": [
    "**To do examine the Data, we need to concatanate**"
   ]
  },
  {
   "cell_type": "code",
   "execution_count": 5,
   "metadata": {
    "execution": {
     "iopub.execute_input": "2021-01-14T12:34:49.550208Z",
     "iopub.status.busy": "2021-01-14T12:34:49.546215Z",
     "iopub.status.idle": "2021-01-14T12:34:49.555623Z",
     "shell.execute_reply": "2021-01-14T12:34:49.555095Z"
    },
    "papermill": {
     "duration": 0.07811,
     "end_time": "2021-01-14T12:34:49.555775",
     "exception": false,
     "start_time": "2021-01-14T12:34:49.477665",
     "status": "completed"
    },
    "tags": []
   },
   "outputs": [],
   "source": [
    "data = pd.concat([train,test],sort=False)"
   ]
  },
  {
   "cell_type": "code",
   "execution_count": 6,
   "metadata": {
    "execution": {
     "iopub.execute_input": "2021-01-14T12:34:49.682405Z",
     "iopub.status.busy": "2021-01-14T12:34:49.681759Z",
     "iopub.status.idle": "2021-01-14T12:34:49.701260Z",
     "shell.execute_reply": "2021-01-14T12:34:49.701840Z"
    },
    "papermill": {
     "duration": 0.084818,
     "end_time": "2021-01-14T12:34:49.701979",
     "exception": false,
     "start_time": "2021-01-14T12:34:49.617161",
     "status": "completed"
    },
    "tags": []
   },
   "outputs": [
    {
     "data": {
      "text/html": [
       "<div>\n",
       "<style scoped>\n",
       "    .dataframe tbody tr th:only-of-type {\n",
       "        vertical-align: middle;\n",
       "    }\n",
       "\n",
       "    .dataframe tbody tr th {\n",
       "        vertical-align: top;\n",
       "    }\n",
       "\n",
       "    .dataframe thead th {\n",
       "        text-align: right;\n",
       "    }\n",
       "</style>\n",
       "<table border=\"1\" class=\"dataframe\">\n",
       "  <thead>\n",
       "    <tr style=\"text-align: right;\">\n",
       "      <th></th>\n",
       "      <th>Item_Identifier</th>\n",
       "      <th>Item_Weight</th>\n",
       "      <th>Item_Fat_Content</th>\n",
       "      <th>Item_Visibility</th>\n",
       "      <th>Item_Type</th>\n",
       "      <th>Item_MRP</th>\n",
       "      <th>Outlet_Identifier</th>\n",
       "      <th>Outlet_Establishment_Year</th>\n",
       "      <th>Outlet_Size</th>\n",
       "      <th>Outlet_Location_Type</th>\n",
       "      <th>Outlet_Type</th>\n",
       "      <th>Item_Outlet_Sales</th>\n",
       "    </tr>\n",
       "  </thead>\n",
       "  <tbody>\n",
       "    <tr>\n",
       "      <th>0</th>\n",
       "      <td>FDA15</td>\n",
       "      <td>9.30</td>\n",
       "      <td>Low Fat</td>\n",
       "      <td>0.016047</td>\n",
       "      <td>Dairy</td>\n",
       "      <td>249.8092</td>\n",
       "      <td>OUT049</td>\n",
       "      <td>1999</td>\n",
       "      <td>Medium</td>\n",
       "      <td>Tier 1</td>\n",
       "      <td>Supermarket Type1</td>\n",
       "      <td>3735.1380</td>\n",
       "    </tr>\n",
       "    <tr>\n",
       "      <th>1</th>\n",
       "      <td>DRC01</td>\n",
       "      <td>5.92</td>\n",
       "      <td>Regular</td>\n",
       "      <td>0.019278</td>\n",
       "      <td>Soft Drinks</td>\n",
       "      <td>48.2692</td>\n",
       "      <td>OUT018</td>\n",
       "      <td>2009</td>\n",
       "      <td>Medium</td>\n",
       "      <td>Tier 3</td>\n",
       "      <td>Supermarket Type2</td>\n",
       "      <td>443.4228</td>\n",
       "    </tr>\n",
       "    <tr>\n",
       "      <th>2</th>\n",
       "      <td>FDN15</td>\n",
       "      <td>17.50</td>\n",
       "      <td>Low Fat</td>\n",
       "      <td>0.016760</td>\n",
       "      <td>Meat</td>\n",
       "      <td>141.6180</td>\n",
       "      <td>OUT049</td>\n",
       "      <td>1999</td>\n",
       "      <td>Medium</td>\n",
       "      <td>Tier 1</td>\n",
       "      <td>Supermarket Type1</td>\n",
       "      <td>2097.2700</td>\n",
       "    </tr>\n",
       "    <tr>\n",
       "      <th>3</th>\n",
       "      <td>FDX07</td>\n",
       "      <td>19.20</td>\n",
       "      <td>Regular</td>\n",
       "      <td>0.000000</td>\n",
       "      <td>Fruits and Vegetables</td>\n",
       "      <td>182.0950</td>\n",
       "      <td>OUT010</td>\n",
       "      <td>1998</td>\n",
       "      <td>NaN</td>\n",
       "      <td>Tier 3</td>\n",
       "      <td>Grocery Store</td>\n",
       "      <td>732.3800</td>\n",
       "    </tr>\n",
       "    <tr>\n",
       "      <th>4</th>\n",
       "      <td>NCD19</td>\n",
       "      <td>8.93</td>\n",
       "      <td>Low Fat</td>\n",
       "      <td>0.000000</td>\n",
       "      <td>Household</td>\n",
       "      <td>53.8614</td>\n",
       "      <td>OUT013</td>\n",
       "      <td>1987</td>\n",
       "      <td>High</td>\n",
       "      <td>Tier 3</td>\n",
       "      <td>Supermarket Type1</td>\n",
       "      <td>994.7052</td>\n",
       "    </tr>\n",
       "  </tbody>\n",
       "</table>\n",
       "</div>"
      ],
      "text/plain": [
       "  Item_Identifier  Item_Weight Item_Fat_Content  Item_Visibility  \\\n",
       "0           FDA15         9.30          Low Fat         0.016047   \n",
       "1           DRC01         5.92          Regular         0.019278   \n",
       "2           FDN15        17.50          Low Fat         0.016760   \n",
       "3           FDX07        19.20          Regular         0.000000   \n",
       "4           NCD19         8.93          Low Fat         0.000000   \n",
       "\n",
       "               Item_Type  Item_MRP Outlet_Identifier  \\\n",
       "0                  Dairy  249.8092            OUT049   \n",
       "1            Soft Drinks   48.2692            OUT018   \n",
       "2                   Meat  141.6180            OUT049   \n",
       "3  Fruits and Vegetables  182.0950            OUT010   \n",
       "4              Household   53.8614            OUT013   \n",
       "\n",
       "   Outlet_Establishment_Year Outlet_Size Outlet_Location_Type  \\\n",
       "0                       1999      Medium               Tier 1   \n",
       "1                       2009      Medium               Tier 3   \n",
       "2                       1999      Medium               Tier 1   \n",
       "3                       1998         NaN               Tier 3   \n",
       "4                       1987        High               Tier 3   \n",
       "\n",
       "         Outlet_Type  Item_Outlet_Sales  \n",
       "0  Supermarket Type1          3735.1380  \n",
       "1  Supermarket Type2           443.4228  \n",
       "2  Supermarket Type1          2097.2700  \n",
       "3      Grocery Store           732.3800  \n",
       "4  Supermarket Type1           994.7052  "
      ]
     },
     "execution_count": 6,
     "metadata": {},
     "output_type": "execute_result"
    }
   ],
   "source": [
    "data.head()"
   ]
  },
  {
   "cell_type": "code",
   "execution_count": 7,
   "metadata": {
    "execution": {
     "iopub.execute_input": "2021-01-14T12:34:49.828496Z",
     "iopub.status.busy": "2021-01-14T12:34:49.827865Z",
     "iopub.status.idle": "2021-01-14T12:34:49.852910Z",
     "shell.execute_reply": "2021-01-14T12:34:49.853486Z"
    },
    "papermill": {
     "duration": 0.089421,
     "end_time": "2021-01-14T12:34:49.853626",
     "exception": false,
     "start_time": "2021-01-14T12:34:49.764205",
     "status": "completed"
    },
    "tags": []
   },
   "outputs": [
    {
     "name": "stdout",
     "output_type": "stream",
     "text": [
      "<class 'pandas.core.frame.DataFrame'>\n",
      "Int64Index: 14204 entries, 0 to 5680\n",
      "Data columns (total 12 columns):\n",
      " #   Column                     Non-Null Count  Dtype  \n",
      "---  ------                     --------------  -----  \n",
      " 0   Item_Identifier            14204 non-null  object \n",
      " 1   Item_Weight                11765 non-null  float64\n",
      " 2   Item_Fat_Content           14204 non-null  object \n",
      " 3   Item_Visibility            14204 non-null  float64\n",
      " 4   Item_Type                  14204 non-null  object \n",
      " 5   Item_MRP                   14204 non-null  float64\n",
      " 6   Outlet_Identifier          14204 non-null  object \n",
      " 7   Outlet_Establishment_Year  14204 non-null  int64  \n",
      " 8   Outlet_Size                10188 non-null  object \n",
      " 9   Outlet_Location_Type       14204 non-null  object \n",
      " 10  Outlet_Type                14204 non-null  object \n",
      " 11  Item_Outlet_Sales          8523 non-null   float64\n",
      "dtypes: float64(4), int64(1), object(7)\n",
      "memory usage: 1.4+ MB\n"
     ]
    }
   ],
   "source": [
    "data.info() #There are missing values and we need to fill or drop them "
   ]
  },
  {
   "cell_type": "markdown",
   "metadata": {
    "papermill": {
     "duration": 0.068502,
     "end_time": "2021-01-14T12:34:49.984295",
     "exception": false,
     "start_time": "2021-01-14T12:34:49.915793",
     "status": "completed"
    },
    "tags": []
   },
   "source": [
    "*Item Outlet Sales will be our label for regression algorithm*"
   ]
  },
  {
   "cell_type": "code",
   "execution_count": 8,
   "metadata": {
    "execution": {
     "iopub.execute_input": "2021-01-14T12:34:50.112173Z",
     "iopub.status.busy": "2021-01-14T12:34:50.111488Z",
     "iopub.status.idle": "2021-01-14T12:34:50.399236Z",
     "shell.execute_reply": "2021-01-14T12:34:50.398621Z"
    },
    "papermill": {
     "duration": 0.352217,
     "end_time": "2021-01-14T12:34:50.399342",
     "exception": false,
     "start_time": "2021-01-14T12:34:50.047125",
     "status": "completed"
    },
    "tags": []
   },
   "outputs": [
    {
     "data": {
      "image/png": "[encoded data removed]",
      "text/plain": [
       "<Figure size 432x288 with 1 Axes>"
      ]
     },
     "metadata": {
      "needs_background": "light"
     },
     "output_type": "display_data"
    }
   ],
   "source": [
    "sns.distplot(data[\"Item_Outlet_Sales\"])\n",
    "plt.show()"
   ]
  },
  {
   "cell_type": "markdown",
   "metadata": {
    "papermill": {
     "duration": 0.062464,
     "end_time": "2021-01-14T12:34:50.524364",
     "exception": false,
     "start_time": "2021-01-14T12:34:50.461900",
     "status": "completed"
    },
    "tags": []
   },
   "source": [
    "Now, let's check categorical and numerical values"
   ]
  },
  {
   "cell_type": "code",
   "execution_count": 9,
   "metadata": {
    "execution": {
     "iopub.execute_input": "2021-01-14T12:34:50.660816Z",
     "iopub.status.busy": "2021-01-14T12:34:50.660177Z",
     "iopub.status.idle": "2021-01-14T12:34:50.663301Z",
     "shell.execute_reply": "2021-01-14T12:34:50.663920Z"
    },
    "papermill": {
     "duration": 0.076999,
     "end_time": "2021-01-14T12:34:50.664077",
     "exception": false,
     "start_time": "2021-01-14T12:34:50.587078",
     "status": "completed"
    },
    "tags": []
   },
   "outputs": [
    {
     "name": "stdout",
     "output_type": "stream",
     "text": [
      "(8523, 7)\n",
      "(8523, 5)\n"
     ]
    }
   ],
   "source": [
    "#Train\n",
    "categorical = train.select_dtypes(include = [np.object])\n",
    "print(categorical.shape)\n",
    "numerical = train.select_dtypes(include = [np.float64,np.int64,np.int32])\n",
    "print(numerical.shape)"
   ]
  },
  {
   "cell_type": "code",
   "execution_count": 10,
   "metadata": {
    "execution": {
     "iopub.execute_input": "2021-01-14T12:34:50.798702Z",
     "iopub.status.busy": "2021-01-14T12:34:50.797679Z",
     "iopub.status.idle": "2021-01-14T12:34:50.804817Z",
     "shell.execute_reply": "2021-01-14T12:34:50.804335Z"
    },
    "papermill": {
     "duration": 0.077386,
     "end_time": "2021-01-14T12:34:50.804924",
     "exception": false,
     "start_time": "2021-01-14T12:34:50.727538",
     "status": "completed"
    },
    "tags": []
   },
   "outputs": [
    {
     "name": "stdout",
     "output_type": "stream",
     "text": [
      "(5681, 7)\n",
      "(5681, 4)\n"
     ]
    }
   ],
   "source": [
    "#Test\n",
    "categorical = test.select_dtypes(include = [np.object])\n",
    "print(categorical.shape)\n",
    "numerical = test.select_dtypes(include = [np.float64,np.int64,np.int32])\n",
    "print(numerical.shape)"
   ]
  },
  {
   "cell_type": "markdown",
   "metadata": {
    "papermill": {
     "duration": 0.065108,
     "end_time": "2021-01-14T12:34:50.933548",
     "exception": false,
     "start_time": "2021-01-14T12:34:50.868440",
     "status": "completed"
    },
    "tags": []
   },
   "source": [
    "### **DATA CLEANING**\n",
    "* *Missing Values*\n",
    "* *Outlier Detection*\n",
    "* *Feature Scaling - Standardization, - Normalization*"
   ]
  },
  {
   "cell_type": "code",
   "execution_count": 11,
   "metadata": {
    "execution": {
     "iopub.execute_input": "2021-01-14T12:34:51.074711Z",
     "iopub.status.busy": "2021-01-14T12:34:51.072555Z",
     "iopub.status.idle": "2021-01-14T12:34:51.079512Z",
     "shell.execute_reply": "2021-01-14T12:34:51.078978Z"
    },
    "papermill": {
     "duration": 0.081778,
     "end_time": "2021-01-14T12:34:51.079621",
     "exception": false,
     "start_time": "2021-01-14T12:34:50.997843",
     "status": "completed"
    },
    "tags": []
   },
   "outputs": [
    {
     "data": {
      "text/plain": [
       "Item_Identifier                 0\n",
       "Item_Weight                  1463\n",
       "Item_Fat_Content                0\n",
       "Item_Visibility                 0\n",
       "Item_Type                       0\n",
       "Item_MRP                        0\n",
       "Outlet_Identifier               0\n",
       "Outlet_Establishment_Year       0\n",
       "Outlet_Size                  2410\n",
       "Outlet_Location_Type            0\n",
       "Outlet_Type                     0\n",
       "Item_Outlet_Sales               0\n",
       "dtype: int64"
      ]
     },
     "execution_count": 11,
     "metadata": {},
     "output_type": "execute_result"
    }
   ],
   "source": [
    "train.isna().sum()"
   ]
  },
  {
   "cell_type": "markdown",
   "metadata": {
    "papermill": {
     "duration": 0.064925,
     "end_time": "2021-01-14T12:34:51.209046",
     "exception": false,
     "start_time": "2021-01-14T12:34:51.144121",
     "status": "completed"
    },
    "tags": []
   },
   "source": [
    "- In the \"Item_Weight\" label exist 1463 missing value\n",
    "- In the \"Outlet_Size\" label exist 2410 missing value\n",
    "- Let's fix them"
   ]
  },
  {
   "cell_type": "code",
   "execution_count": 12,
   "metadata": {
    "execution": {
     "iopub.execute_input": "2021-01-14T12:34:51.346228Z",
     "iopub.status.busy": "2021-01-14T12:34:51.345563Z",
     "iopub.status.idle": "2021-01-14T12:34:51.350429Z",
     "shell.execute_reply": "2021-01-14T12:34:51.351021Z"
    },
    "papermill": {
     "duration": 0.077684,
     "end_time": "2021-01-14T12:34:51.351165",
     "exception": false,
     "start_time": "2021-01-14T12:34:51.273481",
     "status": "completed"
    },
    "tags": []
   },
   "outputs": [
    {
     "data": {
      "text/plain": [
       "Item_Identifier                 0\n",
       "Item_Weight                   976\n",
       "Item_Fat_Content                0\n",
       "Item_Visibility                 0\n",
       "Item_Type                       0\n",
       "Item_MRP                        0\n",
       "Outlet_Identifier               0\n",
       "Outlet_Establishment_Year       0\n",
       "Outlet_Size                  1606\n",
       "Outlet_Location_Type            0\n",
       "Outlet_Type                     0\n",
       "dtype: int64"
      ]
     },
     "execution_count": 12,
     "metadata": {},
     "output_type": "execute_result"
    }
   ],
   "source": [
    "test.isna().sum() #Similar missing values exit in test data too."
   ]
  },
  {
   "cell_type": "code",
   "execution_count": 13,
   "metadata": {
    "execution": {
     "iopub.execute_input": "2021-01-14T12:34:51.484725Z",
     "iopub.status.busy": "2021-01-14T12:34:51.484129Z",
     "iopub.status.idle": "2021-01-14T12:34:51.488472Z",
     "shell.execute_reply": "2021-01-14T12:34:51.487953Z"
    },
    "papermill": {
     "duration": 0.074092,
     "end_time": "2021-01-14T12:34:51.488576",
     "exception": false,
     "start_time": "2021-01-14T12:34:51.414484",
     "status": "completed"
    },
    "tags": []
   },
   "outputs": [],
   "source": [
    "train[\"Item_Weight\"] = train[\"Item_Weight\"].fillna(train[\"Item_Weight\"].mean())\n",
    "test[\"Item_Weight\"] = test[\"Item_Weight\"].fillna(test[\"Item_Weight\"].mean())"
   ]
  },
  {
   "cell_type": "code",
   "execution_count": 14,
   "metadata": {
    "execution": {
     "iopub.execute_input": "2021-01-14T12:34:51.622626Z",
     "iopub.status.busy": "2021-01-14T12:34:51.621954Z",
     "iopub.status.idle": "2021-01-14T12:34:51.628148Z",
     "shell.execute_reply": "2021-01-14T12:34:51.628714Z"
    },
    "papermill": {
     "duration": 0.075933,
     "end_time": "2021-01-14T12:34:51.628838",
     "exception": false,
     "start_time": "2021-01-14T12:34:51.552905",
     "status": "completed"
    },
    "tags": []
   },
   "outputs": [
    {
     "data": {
      "text/plain": [
       "(0, 0)"
      ]
     },
     "execution_count": 14,
     "metadata": {},
     "output_type": "execute_result"
    }
   ],
   "source": [
    "train[\"Item_Weight\"].isna().sum() , test[\"Item_Weight\"].isna().sum()"
   ]
  },
  {
   "cell_type": "markdown",
   "metadata": {
    "papermill": {
     "duration": 0.065337,
     "end_time": "2021-01-14T12:34:51.759157",
     "exception": false,
     "start_time": "2021-01-14T12:34:51.693820",
     "status": "completed"
    },
    "tags": []
   },
   "source": [
    "We fill missing values in the \"Item_Weight\" column by using \"median\""
   ]
  },
  {
   "cell_type": "code",
   "execution_count": 15,
   "metadata": {
    "execution": {
     "iopub.execute_input": "2021-01-14T12:34:51.891654Z",
     "iopub.status.busy": "2021-01-14T12:34:51.891074Z",
     "iopub.status.idle": "2021-01-14T12:34:51.914202Z",
     "shell.execute_reply": "2021-01-14T12:34:51.913658Z"
    },
    "papermill": {
     "duration": 0.090382,
     "end_time": "2021-01-14T12:34:51.914313",
     "exception": false,
     "start_time": "2021-01-14T12:34:51.823931",
     "status": "completed"
    },
    "tags": []
   },
   "outputs": [
    {
     "name": "stdout",
     "output_type": "stream",
     "text": [
      "<class 'pandas.core.frame.DataFrame'>\n",
      "Int64Index: 14204 entries, 0 to 5680\n",
      "Data columns (total 12 columns):\n",
      " #   Column                     Non-Null Count  Dtype  \n",
      "---  ------                     --------------  -----  \n",
      " 0   Item_Identifier            14204 non-null  object \n",
      " 1   Item_Weight                11765 non-null  float64\n",
      " 2   Item_Fat_Content           14204 non-null  object \n",
      " 3   Item_Visibility            14204 non-null  float64\n",
      " 4   Item_Type                  14204 non-null  object \n",
      " 5   Item_MRP                   14204 non-null  float64\n",
      " 6   Outlet_Identifier          14204 non-null  object \n",
      " 7   Outlet_Establishment_Year  14204 non-null  int64  \n",
      " 8   Outlet_Size                10188 non-null  object \n",
      " 9   Outlet_Location_Type       14204 non-null  object \n",
      " 10  Outlet_Type                14204 non-null  object \n",
      " 11  Item_Outlet_Sales          8523 non-null   float64\n",
      "dtypes: float64(4), int64(1), object(7)\n",
      "memory usage: 1.4+ MB\n"
     ]
    }
   ],
   "source": [
    "data.info()"
   ]
  },
  {
   "cell_type": "markdown",
   "metadata": {
    "papermill": {
     "duration": 0.080927,
     "end_time": "2021-01-14T12:34:52.074924",
     "exception": false,
     "start_time": "2021-01-14T12:34:51.993997",
     "status": "completed"
    },
    "tags": []
   },
   "source": [
    "As we see,\n",
    "- Item_Weight column is float (numerical) format that's why we could use median method.\n",
    "- Outlet_Size column is object form. So we need to use different method to fill them"
   ]
  },
  {
   "cell_type": "code",
   "execution_count": 16,
   "metadata": {
    "execution": {
     "iopub.execute_input": "2021-01-14T12:34:52.220876Z",
     "iopub.status.busy": "2021-01-14T12:34:52.219916Z",
     "iopub.status.idle": "2021-01-14T12:34:52.224260Z",
     "shell.execute_reply": "2021-01-14T12:34:52.223635Z"
    },
    "papermill": {
     "duration": 0.079453,
     "end_time": "2021-01-14T12:34:52.224364",
     "exception": false,
     "start_time": "2021-01-14T12:34:52.144911",
     "status": "completed"
    },
    "tags": []
   },
   "outputs": [
    {
     "data": {
      "text/plain": [
       "Medium    2793\n",
       "Small     2388\n",
       "High       932\n",
       "Name: Outlet_Size, dtype: int64"
      ]
     },
     "execution_count": 16,
     "metadata": {},
     "output_type": "execute_result"
    }
   ],
   "source": [
    "train.Outlet_Size.value_counts()"
   ]
  },
  {
   "cell_type": "code",
   "execution_count": 17,
   "metadata": {
    "execution": {
     "iopub.execute_input": "2021-01-14T12:34:52.366504Z",
     "iopub.status.busy": "2021-01-14T12:34:52.365535Z",
     "iopub.status.idle": "2021-01-14T12:34:52.369235Z",
     "shell.execute_reply": "2021-01-14T12:34:52.369673Z"
    },
    "papermill": {
     "duration": 0.079021,
     "end_time": "2021-01-14T12:34:52.369805",
     "exception": false,
     "start_time": "2021-01-14T12:34:52.290784",
     "status": "completed"
    },
    "tags": []
   },
   "outputs": [
    {
     "data": {
      "text/plain": [
       "Medium    1862\n",
       "Small     1592\n",
       "High       621\n",
       "Name: Outlet_Size, dtype: int64"
      ]
     },
     "execution_count": 17,
     "metadata": {},
     "output_type": "execute_result"
    }
   ],
   "source": [
    "test.Outlet_Size.value_counts()"
   ]
  },
  {
   "cell_type": "markdown",
   "metadata": {
    "papermill": {
     "duration": 0.06693,
     "end_time": "2021-01-14T12:34:52.503345",
     "exception": false,
     "start_time": "2021-01-14T12:34:52.436415",
     "status": "completed"
    },
    "tags": []
   },
   "source": [
    "For categorical nan values we can use \"mode\" method it means filling with most common value"
   ]
  },
  {
   "cell_type": "code",
   "execution_count": 18,
   "metadata": {
    "execution": {
     "iopub.execute_input": "2021-01-14T12:34:52.641987Z",
     "iopub.status.busy": "2021-01-14T12:34:52.641026Z",
     "iopub.status.idle": "2021-01-14T12:34:52.651778Z",
     "shell.execute_reply": "2021-01-14T12:34:52.652291Z"
    },
    "papermill": {
     "duration": 0.08157,
     "end_time": "2021-01-14T12:34:52.652432",
     "exception": false,
     "start_time": "2021-01-14T12:34:52.570862",
     "status": "completed"
    },
    "tags": []
   },
   "outputs": [],
   "source": [
    "train[\"Outlet_Size\"] = train[\"Outlet_Size\"].fillna(train[\"Outlet_Size\"].mode()[0])\n",
    "test[\"Outlet_Size\"] = train[\"Outlet_Size\"].fillna(test[\"Outlet_Size\"].mode()[0])"
   ]
  },
  {
   "cell_type": "code",
   "execution_count": 19,
   "metadata": {
    "execution": {
     "iopub.execute_input": "2021-01-14T12:34:52.791448Z",
     "iopub.status.busy": "2021-01-14T12:34:52.790379Z",
     "iopub.status.idle": "2021-01-14T12:34:52.800557Z",
     "shell.execute_reply": "2021-01-14T12:34:52.800016Z"
    },
    "papermill": {
     "duration": 0.081127,
     "end_time": "2021-01-14T12:34:52.800658",
     "exception": false,
     "start_time": "2021-01-14T12:34:52.719531",
     "status": "completed"
    },
    "tags": []
   },
   "outputs": [
    {
     "name": "stdout",
     "output_type": "stream",
     "text": [
      "Missing value quantity of train data: 0\n",
      "Missing value quantity of test data: 0\n"
     ]
    }
   ],
   "source": [
    "print(\"Missing value quantity of train data:\",train[\"Outlet_Size\"].isna().sum())\n",
    "print(\"Missing value quantity of test data:\",test[\"Outlet_Size\"].isna().sum())\n"
   ]
  },
  {
   "cell_type": "markdown",
   "metadata": {
    "papermill": {
     "duration": 0.069076,
     "end_time": "2021-01-14T12:34:52.937450",
     "exception": false,
     "start_time": "2021-01-14T12:34:52.868374",
     "status": "completed"
    },
    "tags": []
   },
   "source": [
    "*We fixed the whole nan values*"
   ]
  },
  {
   "cell_type": "markdown",
   "metadata": {
    "papermill": {
     "duration": 0.067727,
     "end_time": "2021-01-14T12:34:53.073195",
     "exception": false,
     "start_time": "2021-01-14T12:34:53.005468",
     "status": "completed"
    },
    "tags": []
   },
   "source": [
    "### Exploratory Data Analysis (EDA) "
   ]
  },
  {
   "cell_type": "code",
   "execution_count": 20,
   "metadata": {
    "execution": {
     "iopub.execute_input": "2021-01-14T12:34:53.214099Z",
     "iopub.status.busy": "2021-01-14T12:34:53.213464Z",
     "iopub.status.idle": "2021-01-14T12:34:53.216643Z",
     "shell.execute_reply": "2021-01-14T12:34:53.217180Z"
    },
    "papermill": {
     "duration": 0.076709,
     "end_time": "2021-01-14T12:34:53.217305",
     "exception": false,
     "start_time": "2021-01-14T12:34:53.140596",
     "status": "completed"
    },
    "tags": []
   },
   "outputs": [
    {
     "data": {
      "text/plain": [
       "Index(['Item_Identifier', 'Item_Weight', 'Item_Fat_Content', 'Item_Visibility',\n",
       "       'Item_Type', 'Item_MRP', 'Outlet_Identifier',\n",
       "       'Outlet_Establishment_Year', 'Outlet_Size', 'Outlet_Location_Type',\n",
       "       'Outlet_Type', 'Item_Outlet_Sales'],\n",
       "      dtype='object')"
      ]
     },
     "execution_count": 20,
     "metadata": {},
     "output_type": "execute_result"
    }
   ],
   "source": [
    "train.columns"
   ]
  },
  {
   "cell_type": "code",
   "execution_count": 21,
   "metadata": {
    "execution": {
     "iopub.execute_input": "2021-01-14T12:34:53.355164Z",
     "iopub.status.busy": "2021-01-14T12:34:53.354556Z",
     "iopub.status.idle": "2021-01-14T12:34:53.372439Z",
     "shell.execute_reply": "2021-01-14T12:34:53.371756Z"
    },
    "papermill": {
     "duration": 0.088039,
     "end_time": "2021-01-14T12:34:53.372552",
     "exception": false,
     "start_time": "2021-01-14T12:34:53.284513",
     "status": "completed"
    },
    "tags": []
   },
   "outputs": [
    {
     "name": "stdout",
     "output_type": "stream",
     "text": [
      "<class 'pandas.core.frame.DataFrame'>\n",
      "RangeIndex: 8523 entries, 0 to 8522\n",
      "Data columns (total 12 columns):\n",
      " #   Column                     Non-Null Count  Dtype  \n",
      "---  ------                     --------------  -----  \n",
      " 0   Item_Identifier            8523 non-null   object \n",
      " 1   Item_Weight                8523 non-null   float64\n",
      " 2   Item_Fat_Content           8523 non-null   object \n",
      " 3   Item_Visibility            8523 non-null   float64\n",
      " 4   Item_Type                  8523 non-null   object \n",
      " 5   Item_MRP                   8523 non-null   float64\n",
      " 6   Outlet_Identifier          8523 non-null   object \n",
      " 7   Outlet_Establishment_Year  8523 non-null   int64  \n",
      " 8   Outlet_Size                8523 non-null   object \n",
      " 9   Outlet_Location_Type       8523 non-null   object \n",
      " 10  Outlet_Type                8523 non-null   object \n",
      " 11  Item_Outlet_Sales          8523 non-null   float64\n",
      "dtypes: float64(4), int64(1), object(7)\n",
      "memory usage: 799.2+ KB\n"
     ]
    }
   ],
   "source": [
    "train.info()"
   ]
  },
  {
   "cell_type": "code",
   "execution_count": 22,
   "metadata": {
    "execution": {
     "iopub.execute_input": "2021-01-14T12:34:53.511747Z",
     "iopub.status.busy": "2021-01-14T12:34:53.510755Z",
     "iopub.status.idle": "2021-01-14T12:34:53.521063Z",
     "shell.execute_reply": "2021-01-14T12:34:53.521580Z"
    },
    "papermill": {
     "duration": 0.081442,
     "end_time": "2021-01-14T12:34:53.521716",
     "exception": false,
     "start_time": "2021-01-14T12:34:53.440274",
     "status": "completed"
    },
    "tags": []
   },
   "outputs": [
    {
     "data": {
      "text/plain": [
       "FDW13    10\n",
       "FDG33    10\n",
       "DRE49     9\n",
       "DRN47     9\n",
       "NCQ06     9\n",
       "         ..\n",
       "FDT35     1\n",
       "FDQ60     1\n",
       "FDK57     1\n",
       "FDY43     1\n",
       "FDC23     1\n",
       "Name: Item_Identifier, Length: 1559, dtype: int64"
      ]
     },
     "execution_count": 22,
     "metadata": {},
     "output_type": "execute_result"
    }
   ],
   "source": [
    "train[\"Item_Identifier\"].value_counts() #We can not detect any irregularity for that column\n",
    "#try the others and checking irregularities"
   ]
  },
  {
   "cell_type": "code",
   "execution_count": 23,
   "metadata": {
    "execution": {
     "iopub.execute_input": "2021-01-14T12:34:53.663306Z",
     "iopub.status.busy": "2021-01-14T12:34:53.662670Z",
     "iopub.status.idle": "2021-01-14T12:34:53.671071Z",
     "shell.execute_reply": "2021-01-14T12:34:53.671594Z"
    },
    "papermill": {
     "duration": 0.080828,
     "end_time": "2021-01-14T12:34:53.671715",
     "exception": false,
     "start_time": "2021-01-14T12:34:53.590887",
     "status": "completed"
    },
    "tags": []
   },
   "outputs": [
    {
     "data": {
      "text/plain": [
       "Low Fat    5089\n",
       "Regular    2889\n",
       "LF          316\n",
       "reg         117\n",
       "low fat     112\n",
       "Name: Item_Fat_Content, dtype: int64"
      ]
     },
     "execution_count": 23,
     "metadata": {},
     "output_type": "execute_result"
    }
   ],
   "source": [
    "train[\"Item_Fat_Content\"].value_counts()"
   ]
  },
  {
   "cell_type": "markdown",
   "metadata": {
    "papermill": {
     "duration": 0.067997,
     "end_time": "2021-01-14T12:34:53.808693",
     "exception": false,
     "start_time": "2021-01-14T12:34:53.740696",
     "status": "completed"
    },
    "tags": []
   },
   "source": [
    "- There are Low Fat, low fat also, LF lets merge them\n",
    "- There are reg also Regular too, we need to merge them too.\n"
   ]
  },
  {
   "cell_type": "code",
   "execution_count": 24,
   "metadata": {
    "execution": {
     "iopub.execute_input": "2021-01-14T12:34:53.953107Z",
     "iopub.status.busy": "2021-01-14T12:34:53.951884Z",
     "iopub.status.idle": "2021-01-14T12:34:53.955257Z",
     "shell.execute_reply": "2021-01-14T12:34:53.955769Z"
    },
    "papermill": {
     "duration": 0.079773,
     "end_time": "2021-01-14T12:34:53.955893",
     "exception": false,
     "start_time": "2021-01-14T12:34:53.876120",
     "status": "completed"
    },
    "tags": []
   },
   "outputs": [],
   "source": [
    "train['Item_Fat_Content'].replace(['low fat','LF','reg'],['Low Fat','Low Fat','Regular'],inplace = True) \n",
    "#By doing this we merged them as one feature"
   ]
  },
  {
   "cell_type": "code",
   "execution_count": 25,
   "metadata": {
    "execution": {
     "iopub.execute_input": "2021-01-14T12:34:54.097556Z",
     "iopub.status.busy": "2021-01-14T12:34:54.096962Z",
     "iopub.status.idle": "2021-01-14T12:34:54.105551Z",
     "shell.execute_reply": "2021-01-14T12:34:54.106166Z"
    },
    "papermill": {
     "duration": 0.080752,
     "end_time": "2021-01-14T12:34:54.106302",
     "exception": false,
     "start_time": "2021-01-14T12:34:54.025550",
     "status": "completed"
    },
    "tags": []
   },
   "outputs": [
    {
     "data": {
      "text/plain": [
       "Low Fat    5517\n",
       "Regular    3006\n",
       "Name: Item_Fat_Content, dtype: int64"
      ]
     },
     "execution_count": 25,
     "metadata": {},
     "output_type": "execute_result"
    }
   ],
   "source": [
    "train[\"Item_Fat_Content\"].value_counts()"
   ]
  },
  {
   "cell_type": "code",
   "execution_count": 26,
   "metadata": {
    "execution": {
     "iopub.execute_input": "2021-01-14T12:34:54.248036Z",
     "iopub.status.busy": "2021-01-14T12:34:54.247422Z",
     "iopub.status.idle": "2021-01-14T12:34:54.254496Z",
     "shell.execute_reply": "2021-01-14T12:34:54.255157Z"
    },
    "papermill": {
     "duration": 0.079622,
     "end_time": "2021-01-14T12:34:54.255292",
     "exception": false,
     "start_time": "2021-01-14T12:34:54.175670",
     "status": "completed"
    },
    "tags": []
   },
   "outputs": [],
   "source": [
    "test['Item_Fat_Content'].replace(['low fat','LF','reg'],['Low Fat','Low Fat','Regular'],inplace = True)"
   ]
  },
  {
   "cell_type": "code",
   "execution_count": 27,
   "metadata": {
    "execution": {
     "iopub.execute_input": "2021-01-14T12:34:54.402935Z",
     "iopub.status.busy": "2021-01-14T12:34:54.402325Z",
     "iopub.status.idle": "2021-01-14T12:34:54.405157Z",
     "shell.execute_reply": "2021-01-14T12:34:54.405712Z"
    },
    "papermill": {
     "duration": 0.081549,
     "end_time": "2021-01-14T12:34:54.405854",
     "exception": false,
     "start_time": "2021-01-14T12:34:54.324305",
     "status": "completed"
    },
    "tags": []
   },
   "outputs": [
    {
     "data": {
      "text/plain": [
       "OUT027    935\n",
       "OUT013    932\n",
       "OUT035    930\n",
       "OUT046    930\n",
       "OUT049    930\n",
       "OUT045    929\n",
       "OUT018    928\n",
       "OUT017    926\n",
       "OUT010    555\n",
       "OUT019    528\n",
       "Name: Outlet_Identifier, dtype: int64"
      ]
     },
     "execution_count": 27,
     "metadata": {},
     "output_type": "execute_result"
    }
   ],
   "source": [
    "train[\"Outlet_Identifier\"].value_counts() #There is nothing anormal"
   ]
  },
  {
   "cell_type": "code",
   "execution_count": 28,
   "metadata": {
    "execution": {
     "iopub.execute_input": "2021-01-14T12:34:54.550450Z",
     "iopub.status.busy": "2021-01-14T12:34:54.549761Z",
     "iopub.status.idle": "2021-01-14T12:34:54.558879Z",
     "shell.execute_reply": "2021-01-14T12:34:54.559435Z"
    },
    "papermill": {
     "duration": 0.083484,
     "end_time": "2021-01-14T12:34:54.559571",
     "exception": false,
     "start_time": "2021-01-14T12:34:54.476087",
     "status": "completed"
    },
    "tags": []
   },
   "outputs": [
    {
     "data": {
      "text/plain": [
       "Fruits and Vegetables    1232\n",
       "Snack Foods              1200\n",
       "Household                 910\n",
       "Frozen Foods              856\n",
       "Dairy                     682\n",
       "Canned                    649\n",
       "Baking Goods              648\n",
       "Health and Hygiene        520\n",
       "Soft Drinks               445\n",
       "Meat                      425\n",
       "Breads                    251\n",
       "Hard Drinks               214\n",
       "Others                    169\n",
       "Starchy Foods             148\n",
       "Breakfast                 110\n",
       "Seafood                    64\n",
       "Name: Item_Type, dtype: int64"
      ]
     },
     "execution_count": 28,
     "metadata": {},
     "output_type": "execute_result"
    }
   ],
   "source": [
    "train[\"Item_Type\"].value_counts() #Nothing anormal too"
   ]
  },
  {
   "cell_type": "code",
   "execution_count": 29,
   "metadata": {
    "execution": {
     "iopub.execute_input": "2021-01-14T12:34:54.706455Z",
     "iopub.status.busy": "2021-01-14T12:34:54.705805Z",
     "iopub.status.idle": "2021-01-14T12:34:54.714890Z",
     "shell.execute_reply": "2021-01-14T12:34:54.715485Z"
    },
    "papermill": {
     "duration": 0.083848,
     "end_time": "2021-01-14T12:34:54.715619",
     "exception": false,
     "start_time": "2021-01-14T12:34:54.631771",
     "status": "completed"
    },
    "tags": []
   },
   "outputs": [
    {
     "data": {
      "text/plain": [
       "Medium    5203\n",
       "Small     2388\n",
       "High       932\n",
       "Name: Outlet_Size, dtype: int64"
      ]
     },
     "execution_count": 29,
     "metadata": {},
     "output_type": "execute_result"
    }
   ],
   "source": [
    "train[\"Outlet_Size\"].value_counts()"
   ]
  },
  {
   "cell_type": "code",
   "execution_count": 30,
   "metadata": {
    "execution": {
     "iopub.execute_input": "2021-01-14T12:34:54.864322Z",
     "iopub.status.busy": "2021-01-14T12:34:54.863679Z",
     "iopub.status.idle": "2021-01-14T12:34:54.872446Z",
     "shell.execute_reply": "2021-01-14T12:34:54.873032Z"
    },
    "papermill": {
     "duration": 0.084617,
     "end_time": "2021-01-14T12:34:54.873177",
     "exception": false,
     "start_time": "2021-01-14T12:34:54.788560",
     "status": "completed"
    },
    "tags": []
   },
   "outputs": [
    {
     "data": {
      "text/plain": [
       "Tier 3    3350\n",
       "Tier 2    2785\n",
       "Tier 1    2388\n",
       "Name: Outlet_Location_Type, dtype: int64"
      ]
     },
     "execution_count": 30,
     "metadata": {},
     "output_type": "execute_result"
    }
   ],
   "source": [
    "train[\"Outlet_Location_Type\"].value_counts()"
   ]
  },
  {
   "cell_type": "code",
   "execution_count": 31,
   "metadata": {
    "execution": {
     "iopub.execute_input": "2021-01-14T12:34:55.022097Z",
     "iopub.status.busy": "2021-01-14T12:34:55.021456Z",
     "iopub.status.idle": "2021-01-14T12:34:55.030238Z",
     "shell.execute_reply": "2021-01-14T12:34:55.030813Z"
    },
    "papermill": {
     "duration": 0.084464,
     "end_time": "2021-01-14T12:34:55.030951",
     "exception": false,
     "start_time": "2021-01-14T12:34:54.946487",
     "status": "completed"
    },
    "tags": []
   },
   "outputs": [
    {
     "data": {
      "text/plain": [
       "Supermarket Type1    5577\n",
       "Grocery Store        1083\n",
       "Supermarket Type3     935\n",
       "Supermarket Type2     928\n",
       "Name: Outlet_Type, dtype: int64"
      ]
     },
     "execution_count": 31,
     "metadata": {},
     "output_type": "execute_result"
    }
   ],
   "source": [
    "train[\"Outlet_Type\"].value_counts()"
   ]
  },
  {
   "cell_type": "markdown",
   "metadata": {
    "papermill": {
     "duration": 0.072814,
     "end_time": "2021-01-14T12:34:55.176509",
     "exception": false,
     "start_time": "2021-01-14T12:34:55.103695",
     "status": "completed"
    },
    "tags": []
   },
   "source": [
    "- Now, I wanna add a column which shows us how many years passed the item reported on the system \n",
    "- (Note: The time that ı wrote this notebook is 2021)\n"
   ]
  },
  {
   "cell_type": "code",
   "execution_count": 32,
   "metadata": {
    "execution": {
     "iopub.execute_input": "2021-01-14T12:34:55.325844Z",
     "iopub.status.busy": "2021-01-14T12:34:55.325232Z",
     "iopub.status.idle": "2021-01-14T12:34:55.363317Z",
     "shell.execute_reply": "2021-01-14T12:34:55.363850Z"
    },
    "papermill": {
     "duration": 0.114367,
     "end_time": "2021-01-14T12:34:55.363998",
     "exception": false,
     "start_time": "2021-01-14T12:34:55.249631",
     "status": "completed"
    },
    "tags": []
   },
   "outputs": [],
   "source": [
    "train[\"Duration\"] = train[\"Outlet_Establishment_Year\"].apply(lambda i:2021 - i)\n",
    "test[\"Duration\"] = test[\"Outlet_Establishment_Year\"].apply(lambda i:2021 - i)\n",
    "train[\"Duration\"]= train[\"Duration\"].astype(\"str\")\n",
    "test[\"Duration\"]= test[\"Duration\"].astype(\"str\")"
   ]
  },
  {
   "cell_type": "code",
   "execution_count": 33,
   "metadata": {
    "execution": {
     "iopub.execute_input": "2021-01-14T12:34:55.512893Z",
     "iopub.status.busy": "2021-01-14T12:34:55.512313Z",
     "iopub.status.idle": "2021-01-14T12:34:55.534255Z",
     "shell.execute_reply": "2021-01-14T12:34:55.533607Z"
    },
    "papermill": {
     "duration": 0.097454,
     "end_time": "2021-01-14T12:34:55.534361",
     "exception": false,
     "start_time": "2021-01-14T12:34:55.436907",
     "status": "completed"
    },
    "tags": []
   },
   "outputs": [
    {
     "data": {
      "text/html": [
       "<div>\n",
       "<style scoped>\n",
       "    .dataframe tbody tr th:only-of-type {\n",
       "        vertical-align: middle;\n",
       "    }\n",
       "\n",
       "    .dataframe tbody tr th {\n",
       "        vertical-align: top;\n",
       "    }\n",
       "\n",
       "    .dataframe thead th {\n",
       "        text-align: right;\n",
       "    }\n",
       "</style>\n",
       "<table border=\"1\" class=\"dataframe\">\n",
       "  <thead>\n",
       "    <tr style=\"text-align: right;\">\n",
       "      <th></th>\n",
       "      <th>Item_Identifier</th>\n",
       "      <th>Item_Weight</th>\n",
       "      <th>Item_Fat_Content</th>\n",
       "      <th>Item_Visibility</th>\n",
       "      <th>Item_Type</th>\n",
       "      <th>Item_MRP</th>\n",
       "      <th>Outlet_Identifier</th>\n",
       "      <th>Outlet_Establishment_Year</th>\n",
       "      <th>Outlet_Size</th>\n",
       "      <th>Outlet_Location_Type</th>\n",
       "      <th>Outlet_Type</th>\n",
       "      <th>Item_Outlet_Sales</th>\n",
       "      <th>Duration</th>\n",
       "    </tr>\n",
       "  </thead>\n",
       "  <tbody>\n",
       "    <tr>\n",
       "      <th>0</th>\n",
       "      <td>FDA15</td>\n",
       "      <td>9.300000</td>\n",
       "      <td>Low Fat</td>\n",
       "      <td>0.016047</td>\n",
       "      <td>Dairy</td>\n",
       "      <td>249.8092</td>\n",
       "      <td>OUT049</td>\n",
       "      <td>1999</td>\n",
       "      <td>Medium</td>\n",
       "      <td>Tier 1</td>\n",
       "      <td>Supermarket Type1</td>\n",
       "      <td>3735.1380</td>\n",
       "      <td>22</td>\n",
       "    </tr>\n",
       "    <tr>\n",
       "      <th>1</th>\n",
       "      <td>DRC01</td>\n",
       "      <td>5.920000</td>\n",
       "      <td>Regular</td>\n",
       "      <td>0.019278</td>\n",
       "      <td>Soft Drinks</td>\n",
       "      <td>48.2692</td>\n",
       "      <td>OUT018</td>\n",
       "      <td>2009</td>\n",
       "      <td>Medium</td>\n",
       "      <td>Tier 3</td>\n",
       "      <td>Supermarket Type2</td>\n",
       "      <td>443.4228</td>\n",
       "      <td>12</td>\n",
       "    </tr>\n",
       "    <tr>\n",
       "      <th>2</th>\n",
       "      <td>FDN15</td>\n",
       "      <td>17.500000</td>\n",
       "      <td>Low Fat</td>\n",
       "      <td>0.016760</td>\n",
       "      <td>Meat</td>\n",
       "      <td>141.6180</td>\n",
       "      <td>OUT049</td>\n",
       "      <td>1999</td>\n",
       "      <td>Medium</td>\n",
       "      <td>Tier 1</td>\n",
       "      <td>Supermarket Type1</td>\n",
       "      <td>2097.2700</td>\n",
       "      <td>22</td>\n",
       "    </tr>\n",
       "    <tr>\n",
       "      <th>3</th>\n",
       "      <td>FDX07</td>\n",
       "      <td>19.200000</td>\n",
       "      <td>Regular</td>\n",
       "      <td>0.000000</td>\n",
       "      <td>Fruits and Vegetables</td>\n",
       "      <td>182.0950</td>\n",
       "      <td>OUT010</td>\n",
       "      <td>1998</td>\n",
       "      <td>Medium</td>\n",
       "      <td>Tier 3</td>\n",
       "      <td>Grocery Store</td>\n",
       "      <td>732.3800</td>\n",
       "      <td>23</td>\n",
       "    </tr>\n",
       "    <tr>\n",
       "      <th>4</th>\n",
       "      <td>NCD19</td>\n",
       "      <td>8.930000</td>\n",
       "      <td>Low Fat</td>\n",
       "      <td>0.000000</td>\n",
       "      <td>Household</td>\n",
       "      <td>53.8614</td>\n",
       "      <td>OUT013</td>\n",
       "      <td>1987</td>\n",
       "      <td>High</td>\n",
       "      <td>Tier 3</td>\n",
       "      <td>Supermarket Type1</td>\n",
       "      <td>994.7052</td>\n",
       "      <td>34</td>\n",
       "    </tr>\n",
       "    <tr>\n",
       "      <th>5</th>\n",
       "      <td>FDP36</td>\n",
       "      <td>10.395000</td>\n",
       "      <td>Regular</td>\n",
       "      <td>0.000000</td>\n",
       "      <td>Baking Goods</td>\n",
       "      <td>51.4008</td>\n",
       "      <td>OUT018</td>\n",
       "      <td>2009</td>\n",
       "      <td>Medium</td>\n",
       "      <td>Tier 3</td>\n",
       "      <td>Supermarket Type2</td>\n",
       "      <td>556.6088</td>\n",
       "      <td>12</td>\n",
       "    </tr>\n",
       "    <tr>\n",
       "      <th>6</th>\n",
       "      <td>FDO10</td>\n",
       "      <td>13.650000</td>\n",
       "      <td>Regular</td>\n",
       "      <td>0.012741</td>\n",
       "      <td>Snack Foods</td>\n",
       "      <td>57.6588</td>\n",
       "      <td>OUT013</td>\n",
       "      <td>1987</td>\n",
       "      <td>High</td>\n",
       "      <td>Tier 3</td>\n",
       "      <td>Supermarket Type1</td>\n",
       "      <td>343.5528</td>\n",
       "      <td>34</td>\n",
       "    </tr>\n",
       "    <tr>\n",
       "      <th>7</th>\n",
       "      <td>FDP10</td>\n",
       "      <td>12.857645</td>\n",
       "      <td>Low Fat</td>\n",
       "      <td>0.127470</td>\n",
       "      <td>Snack Foods</td>\n",
       "      <td>107.7622</td>\n",
       "      <td>OUT027</td>\n",
       "      <td>1985</td>\n",
       "      <td>Medium</td>\n",
       "      <td>Tier 3</td>\n",
       "      <td>Supermarket Type3</td>\n",
       "      <td>4022.7636</td>\n",
       "      <td>36</td>\n",
       "    </tr>\n",
       "    <tr>\n",
       "      <th>8</th>\n",
       "      <td>FDH17</td>\n",
       "      <td>16.200000</td>\n",
       "      <td>Regular</td>\n",
       "      <td>0.016687</td>\n",
       "      <td>Frozen Foods</td>\n",
       "      <td>96.9726</td>\n",
       "      <td>OUT045</td>\n",
       "      <td>2002</td>\n",
       "      <td>Medium</td>\n",
       "      <td>Tier 2</td>\n",
       "      <td>Supermarket Type1</td>\n",
       "      <td>1076.5986</td>\n",
       "      <td>19</td>\n",
       "    </tr>\n",
       "    <tr>\n",
       "      <th>9</th>\n",
       "      <td>FDU28</td>\n",
       "      <td>19.200000</td>\n",
       "      <td>Regular</td>\n",
       "      <td>0.094450</td>\n",
       "      <td>Frozen Foods</td>\n",
       "      <td>187.8214</td>\n",
       "      <td>OUT017</td>\n",
       "      <td>2007</td>\n",
       "      <td>Medium</td>\n",
       "      <td>Tier 2</td>\n",
       "      <td>Supermarket Type1</td>\n",
       "      <td>4710.5350</td>\n",
       "      <td>14</td>\n",
       "    </tr>\n",
       "  </tbody>\n",
       "</table>\n",
       "</div>"
      ],
      "text/plain": [
       "  Item_Identifier  Item_Weight Item_Fat_Content  Item_Visibility  \\\n",
       "0           FDA15     9.300000          Low Fat         0.016047   \n",
       "1           DRC01     5.920000          Regular         0.019278   \n",
       "2           FDN15    17.500000          Low Fat         0.016760   \n",
       "3           FDX07    19.200000          Regular         0.000000   \n",
       "4           NCD19     8.930000          Low Fat         0.000000   \n",
       "5           FDP36    10.395000          Regular         0.000000   \n",
       "6           FDO10    13.650000          Regular         0.012741   \n",
       "7           FDP10    12.857645          Low Fat         0.127470   \n",
       "8           FDH17    16.200000          Regular         0.016687   \n",
       "9           FDU28    19.200000          Regular         0.094450   \n",
       "\n",
       "               Item_Type  Item_MRP Outlet_Identifier  \\\n",
       "0                  Dairy  249.8092            OUT049   \n",
       "1            Soft Drinks   48.2692            OUT018   \n",
       "2                   Meat  141.6180            OUT049   \n",
       "3  Fruits and Vegetables  182.0950            OUT010   \n",
       "4              Household   53.8614            OUT013   \n",
       "5           Baking Goods   51.4008            OUT018   \n",
       "6            Snack Foods   57.6588            OUT013   \n",
       "7            Snack Foods  107.7622            OUT027   \n",
       "8           Frozen Foods   96.9726            OUT045   \n",
       "9           Frozen Foods  187.8214            OUT017   \n",
       "\n",
       "   Outlet_Establishment_Year Outlet_Size Outlet_Location_Type  \\\n",
       "0                       1999      Medium               Tier 1   \n",
       "1                       2009      Medium               Tier 3   \n",
       "2                       1999      Medium               Tier 1   \n",
       "3                       1998      Medium               Tier 3   \n",
       "4                       1987        High               Tier 3   \n",
       "5                       2009      Medium               Tier 3   \n",
       "6                       1987        High               Tier 3   \n",
       "7                       1985      Medium               Tier 3   \n",
       "8                       2002      Medium               Tier 2   \n",
       "9                       2007      Medium               Tier 2   \n",
       "\n",
       "         Outlet_Type  Item_Outlet_Sales Duration  \n",
       "0  Supermarket Type1          3735.1380       22  \n",
       "1  Supermarket Type2           443.4228       12  \n",
       "2  Supermarket Type1          2097.2700       22  \n",
       "3      Grocery Store           732.3800       23  \n",
       "4  Supermarket Type1           994.7052       34  \n",
       "5  Supermarket Type2           556.6088       12  \n",
       "6  Supermarket Type1           343.5528       34  \n",
       "7  Supermarket Type3          4022.7636       36  \n",
       "8  Supermarket Type1          1076.5986       19  \n",
       "9  Supermarket Type1          4710.5350       14  "
      ]
     },
     "execution_count": 33,
     "metadata": {},
     "output_type": "execute_result"
    }
   ],
   "source": [
    "train.head(10)"
   ]
  },
  {
   "cell_type": "code",
   "execution_count": 34,
   "metadata": {
    "execution": {
     "iopub.execute_input": "2021-01-14T12:34:55.687341Z",
     "iopub.status.busy": "2021-01-14T12:34:55.686687Z",
     "iopub.status.idle": "2021-01-14T12:34:55.705599Z",
     "shell.execute_reply": "2021-01-14T12:34:55.706153Z"
    },
    "papermill": {
     "duration": 0.097994,
     "end_time": "2021-01-14T12:34:55.706291",
     "exception": false,
     "start_time": "2021-01-14T12:34:55.608297",
     "status": "completed"
    },
    "tags": []
   },
   "outputs": [
    {
     "name": "stdout",
     "output_type": "stream",
     "text": [
      "<class 'pandas.core.frame.DataFrame'>\n",
      "RangeIndex: 8523 entries, 0 to 8522\n",
      "Data columns (total 13 columns):\n",
      " #   Column                     Non-Null Count  Dtype  \n",
      "---  ------                     --------------  -----  \n",
      " 0   Item_Identifier            8523 non-null   object \n",
      " 1   Item_Weight                8523 non-null   float64\n",
      " 2   Item_Fat_Content           8523 non-null   object \n",
      " 3   Item_Visibility            8523 non-null   float64\n",
      " 4   Item_Type                  8523 non-null   object \n",
      " 5   Item_MRP                   8523 non-null   float64\n",
      " 6   Outlet_Identifier          8523 non-null   object \n",
      " 7   Outlet_Establishment_Year  8523 non-null   int64  \n",
      " 8   Outlet_Size                8523 non-null   object \n",
      " 9   Outlet_Location_Type       8523 non-null   object \n",
      " 10  Outlet_Type                8523 non-null   object \n",
      " 11  Item_Outlet_Sales          8523 non-null   float64\n",
      " 12  Duration                   8523 non-null   object \n",
      "dtypes: float64(4), int64(1), object(8)\n",
      "memory usage: 865.7+ KB\n"
     ]
    }
   ],
   "source": [
    "train.info()"
   ]
  },
  {
   "cell_type": "markdown",
   "metadata": {
    "papermill": {
     "duration": 0.07472,
     "end_time": "2021-01-14T12:34:55.856149",
     "exception": false,
     "start_time": "2021-01-14T12:34:55.781429",
     "status": "completed"
    },
    "tags": []
   },
   "source": [
    "### Visualizations to see quantities of the values - Unvariate Data Analysis\n",
    "- We just do for the object columns to see how many of them exist"
   ]
  },
  {
   "cell_type": "markdown",
   "metadata": {
    "papermill": {
     "duration": 0.075008,
     "end_time": "2021-01-14T12:34:56.006940",
     "exception": false,
     "start_time": "2021-01-14T12:34:55.931932",
     "status": "completed"
    },
    "tags": []
   },
   "source": [
    "But firstly how many object format column worth to visualize\n"
   ]
  },
  {
   "cell_type": "code",
   "execution_count": 35,
   "metadata": {
    "execution": {
     "iopub.execute_input": "2021-01-14T12:34:56.159252Z",
     "iopub.status.busy": "2021-01-14T12:34:56.158495Z",
     "iopub.status.idle": "2021-01-14T12:34:56.161505Z",
     "shell.execute_reply": "2021-01-14T12:34:56.160872Z"
    },
    "papermill": {
     "duration": 0.080911,
     "end_time": "2021-01-14T12:34:56.161612",
     "exception": false,
     "start_time": "2021-01-14T12:34:56.080701",
     "status": "completed"
    },
    "tags": []
   },
   "outputs": [],
   "source": [
    "#for i in train.columns:\n",
    "#    if train.columns[i].astype == 'O':\n",
    "#        print(\"For {} column unique value amount is : {}\".format(train.columns[i],train.columns[i].unique()))\n",
    "#    else:\n",
    "#        break"
   ]
  },
  {
   "cell_type": "code",
   "execution_count": 36,
   "metadata": {
    "execution": {
     "iopub.execute_input": "2021-01-14T12:34:56.322645Z",
     "iopub.status.busy": "2021-01-14T12:34:56.321914Z",
     "iopub.status.idle": "2021-01-14T12:34:56.331422Z",
     "shell.execute_reply": "2021-01-14T12:34:56.331920Z"
    },
    "papermill": {
     "duration": 0.096149,
     "end_time": "2021-01-14T12:34:56.332081",
     "exception": false,
     "start_time": "2021-01-14T12:34:56.235932",
     "status": "completed"
    },
    "tags": []
   },
   "outputs": [
    {
     "name": "stdout",
     "output_type": "stream",
     "text": [
      "<class 'pandas.core.frame.DataFrame'>\n",
      "RangeIndex: 8523 entries, 0 to 8522\n",
      "Data columns (total 13 columns):\n",
      " #   Column                     Non-Null Count  Dtype  \n",
      "---  ------                     --------------  -----  \n",
      " 0   Item_Identifier            8523 non-null   object \n",
      " 1   Item_Weight                8523 non-null   float64\n",
      " 2   Item_Fat_Content           8523 non-null   object \n",
      " 3   Item_Visibility            8523 non-null   float64\n",
      " 4   Item_Type                  8523 non-null   object \n",
      " 5   Item_MRP                   8523 non-null   float64\n",
      " 6   Outlet_Identifier          8523 non-null   object \n",
      " 7   Outlet_Establishment_Year  8523 non-null   int64  \n",
      " 8   Outlet_Size                8523 non-null   object \n",
      " 9   Outlet_Location_Type       8523 non-null   object \n",
      " 10  Outlet_Type                8523 non-null   object \n",
      " 11  Item_Outlet_Sales          8523 non-null   float64\n",
      " 12  Duration                   8523 non-null   object \n",
      "dtypes: float64(4), int64(1), object(8)\n",
      "memory usage: 865.7+ KB\n"
     ]
    }
   ],
   "source": [
    "train.info()"
   ]
  },
  {
   "cell_type": "code",
   "execution_count": 37,
   "metadata": {
    "execution": {
     "iopub.execute_input": "2021-01-14T12:34:56.484178Z",
     "iopub.status.busy": "2021-01-14T12:34:56.483495Z",
     "iopub.status.idle": "2021-01-14T12:34:56.501813Z",
     "shell.execute_reply": "2021-01-14T12:34:56.501180Z"
    },
    "papermill": {
     "duration": 0.095567,
     "end_time": "2021-01-14T12:34:56.501916",
     "exception": false,
     "start_time": "2021-01-14T12:34:56.406349",
     "status": "completed"
    },
    "tags": []
   },
   "outputs": [
    {
     "name": "stdout",
     "output_type": "stream",
     "text": [
      "For Item_Identifier: ['FDA15' 'DRC01' 'FDN15' ... 'NCF55' 'NCW30' 'NCW05']\n",
      "For Item_Fat_Content: ['Low Fat' 'Regular']\n",
      "For Item_Type: ['Dairy' 'Soft Drinks' 'Meat' 'Fruits and Vegetables' 'Household'\n",
      " 'Baking Goods' 'Snack Foods' 'Frozen Foods' 'Breakfast'\n",
      " 'Health and Hygiene' 'Hard Drinks' 'Canned' 'Breads' 'Starchy Foods'\n",
      " 'Others' 'Seafood']\n",
      "For Outlet_Identifier: ['OUT049' 'OUT018' 'OUT010' 'OUT013' 'OUT027' 'OUT045' 'OUT017' 'OUT046'\n",
      " 'OUT035' 'OUT019']\n",
      "For Outlet_Size : ['Medium' 'High' 'Small']\n",
      "For Outlet_Location_Type: ['Tier 1' 'Tier 3' 'Tier 2']\n",
      "For Outlet_Type: ['Supermarket Type1' 'Supermarket Type2' 'Grocery Store'\n",
      " 'Supermarket Type3']\n",
      "For Duration: ['22' '12' '23' '34' '36' '19' '14' '24' '17']\n"
     ]
    }
   ],
   "source": [
    "print(\"For Item_Identifier:\",train[\"Item_Identifier\"].unique())\n",
    "print(\"For Item_Fat_Content:\",train[\"Item_Fat_Content\"].unique())\n",
    "print(\"For Item_Type:\",train[\"Item_Type\"].unique())\n",
    "print(\"For Outlet_Identifier:\",train[\"Outlet_Identifier\"].unique())\n",
    "print(\"For Outlet_Size :\",train[\"Outlet_Size\"].unique())\n",
    "print(\"For Outlet_Location_Type:\",train[\"Outlet_Location_Type\"].unique())\n",
    "print(\"For Outlet_Type:\",train[\"Outlet_Type\"].unique())\n",
    "print(\"For Duration:\",train[\"Duration\"].unique())"
   ]
  },
  {
   "cell_type": "markdown",
   "metadata": {
    "papermill": {
     "duration": 0.075002,
     "end_time": "2021-01-14T12:34:56.652549",
     "exception": false,
     "start_time": "2021-01-14T12:34:56.577547",
     "status": "completed"
    },
    "tags": []
   },
   "source": [
    "**what makes sense to visualize which columns have few variables**\n",
    "- Item_Fat_Content\n",
    "- Outlet_Identifier\n",
    "- Outlet_Size\n",
    "- Outlet_Location_Type\n",
    "- Outlet_Type\n",
    "- Duration"
   ]
  },
  {
   "cell_type": "markdown",
   "metadata": {
    "papermill": {
     "duration": 0.075631,
     "end_time": "2021-01-14T12:34:56.804350",
     "exception": false,
     "start_time": "2021-01-14T12:34:56.728719",
     "status": "completed"
    },
    "tags": []
   },
   "source": [
    "- It means that except Item_Identifer and Item_Type columns, visualization process might help to analyze the data"
   ]
  },
  {
   "cell_type": "code",
   "execution_count": 38,
   "metadata": {
    "execution": {
     "iopub.execute_input": "2021-01-14T12:34:56.965010Z",
     "iopub.status.busy": "2021-01-14T12:34:56.963455Z",
     "iopub.status.idle": "2021-01-14T12:34:58.296502Z",
     "shell.execute_reply": "2021-01-14T12:34:58.295842Z"
    },
    "papermill": {
     "duration": 1.417572,
     "end_time": "2021-01-14T12:34:58.296610",
     "exception": false,
     "start_time": "2021-01-14T12:34:56.879038",
     "status": "completed"
    },
    "tags": []
   },
   "outputs": [
    {
     "name": "stdout",
     "output_type": "stream",
     "text": [
      "Low Fat    5517\n",
      "Regular    3006\n",
      "Name: Item_Fat_Content, dtype: int64\n",
      "OUT027    935\n",
      "OUT013    932\n",
      "OUT035    930\n",
      "OUT046    930\n",
      "OUT049    930\n",
      "OUT045    929\n",
      "OUT018    928\n",
      "OUT017    926\n",
      "OUT010    555\n",
      "OUT019    528\n",
      "Name: Outlet_Identifier, dtype: int64\n",
      "Medium    5203\n",
      "Small     2388\n",
      "High       932\n",
      "Name: Outlet_Size, dtype: int64\n",
      "Tier 3    3350\n",
      "Tier 2    2785\n",
      "Tier 1    2388\n",
      "Name: Outlet_Location_Type, dtype: int64\n",
      "Supermarket Type1    5577\n",
      "Grocery Store        1083\n",
      "Supermarket Type3     935\n",
      "Supermarket Type2     928\n",
      "Name: Outlet_Type, dtype: int64\n",
      "Fruits and Vegetables    1232\n",
      "Snack Foods              1200\n",
      "Household                 910\n",
      "Frozen Foods              856\n",
      "Dairy                     682\n",
      "Canned                    649\n",
      "Baking Goods              648\n",
      "Health and Hygiene        520\n",
      "Soft Drinks               445\n",
      "Meat                      425\n",
      "Breads                    251\n",
      "Hard Drinks               214\n",
      "Others                    169\n",
      "Starchy Foods             148\n",
      "Breakfast                 110\n",
      "Seafood                    64\n",
      "Name: Item_Type, dtype: int64\n",
      "36    1463\n",
      "34     932\n",
      "24     930\n",
      "17     930\n",
      "22     930\n",
      "19     929\n",
      "12     928\n",
      "14     926\n",
      "23     555\n",
      "Name: Duration, dtype: int64\n"
     ]
    },
    {
     "data": {
      "image/png": "[encoded data removed]",
      "text/plain": [
       "<Figure size 1584x720 with 1 Axes>"
      ]
     },
     "metadata": {
      "needs_background": "light"
     },
     "output_type": "display_data"
    },
    {
     "data": {
      "image/png": "[encoded data removed]",
      "text/plain": [
       "<Figure size 1584x720 with 1 Axes>"
      ]
     },
     "metadata": {
      "needs_background": "light"
     },
     "output_type": "display_data"
    },
    {
     "data": {
      "image/png": "[encoded data removed]",
      "text/plain": [
       "<Figure size 1584x720 with 1 Axes>"
      ]
     },
     "metadata": {
      "needs_background": "light"
     },
     "output_type": "display_data"
    },
    {
     "data": {
      "image/png": "[encoded data removed]",
      "text/plain": [
       "<Figure size 1584x720 with 1 Axes>"
      ]
     },
     "metadata": {
      "needs_background": "light"
     },
     "output_type": "display_data"
    },
    {
     "data": {
      "image/png": "[encoded data removed]",
      "text/plain": [
       "<Figure size 1584x720 with 1 Axes>"
      ]
     },
     "metadata": {
      "needs_background": "light"
     },
     "output_type": "display_data"
    },
    {
     "data": {
      "image/png": "[encoded data removed]",
      "text/plain": [
       "<Figure size 1584x720 with 1 Axes>"
      ]
     },
     "metadata": {
      "needs_background": "light"
     },
     "output_type": "display_data"
    },
    {
     "data": {
      "image/png": "[encoded data removed]",
      "text/plain": [
       "<Figure size 1584x720 with 1 Axes>"
      ]
     },
     "metadata": {
      "needs_background": "light"
     },
     "output_type": "display_data"
    }
   ],
   "source": [
    "cols = train[[\"Item_Fat_Content\",\"Outlet_Identifier\",\"Outlet_Size\",\"Outlet_Location_Type\",\"Outlet_Type\",\"Item_Type\",\"Duration\"]]\n",
    "for i in cols:\n",
    "    plt.figure(figsize=(22,10))\n",
    "    ax = sns.countplot(cols[i],palette = \"CMRmap\")\n",
    "    print(cols[i].value_counts())\n",
    "    ax.set(ylabel = \"COUNT\") "
   ]
  },
  {
   "cell_type": "markdown",
   "metadata": {
    "papermill": {
     "duration": 0.083044,
     "end_time": "2021-01-14T12:34:58.461521",
     "exception": false,
     "start_time": "2021-01-14T12:34:58.378477",
     "status": "completed"
    },
    "tags": []
   },
   "source": [
    "#### INFERENCES From the Unvariate Visualizations\n",
    "- Low Fat people recorded as a costumer more than the Regular ones, \n",
    "- The medium size Outlets are more than the others\n",
    "- Tier 3 Outlets has the majority in the cities\n",
    "- As a outlet type Type 1 Supermarkets widely positioned than the others \n",
    "- The best stocked item types are Fruits, Vegetables and Snacks\n",
    "- And lastly, most of the outlets have established and stil working for 35 years"
   ]
  },
  {
   "cell_type": "markdown",
   "metadata": {
    "papermill": {
     "duration": 0.081791,
     "end_time": "2021-01-14T12:34:58.625154",
     "exception": false,
     "start_time": "2021-01-14T12:34:58.543363",
     "status": "completed"
    },
    "tags": []
   },
   "source": [
    "#### Outlier Detection"
   ]
  },
  {
   "cell_type": "code",
   "execution_count": 39,
   "metadata": {
    "execution": {
     "iopub.execute_input": "2021-01-14T12:34:58.799397Z",
     "iopub.status.busy": "2021-01-14T12:34:58.798745Z",
     "iopub.status.idle": "2021-01-14T12:34:58.801718Z",
     "shell.execute_reply": "2021-01-14T12:34:58.801154Z"
    },
    "papermill": {
     "duration": 0.095022,
     "end_time": "2021-01-14T12:34:58.801821",
     "exception": false,
     "start_time": "2021-01-14T12:34:58.706799",
     "status": "completed"
    },
    "tags": []
   },
   "outputs": [],
   "source": [
    "from collections import Counter\n",
    "def detect_outliers(df,features):\n",
    "    outlier_indices = []\n",
    "    \n",
    "    for c in features:\n",
    "        # 1st quartile\n",
    "        Q1 = np.percentile(df[c],25)\n",
    "        # 3rd quartile\n",
    "        Q3 = np.percentile(df[c],75)\n",
    "        # IQR\n",
    "        IQR = Q3 - Q1\n",
    "        # Outlier step\n",
    "        outlier_step = IQR * 1.5\n",
    "        # detect outlier and their indeces\n",
    "        outlier_list_col = df[(df[c] < Q1 - outlier_step) | (df[c] > Q3 + outlier_step)].index\n",
    "        # store indeces\n",
    "        outlier_indices.extend(outlier_list_col)\n",
    "    \n",
    "    outlier_indices = Counter(outlier_indices)\n",
    "    multiple_outliers = list(i for i, v in outlier_indices.items() if v > 2)\n",
    "    \n",
    "    return multiple_outliers"
   ]
  },
  {
   "cell_type": "code",
   "execution_count": 40,
   "metadata": {
    "execution": {
     "iopub.execute_input": "2021-01-14T12:34:58.972316Z",
     "iopub.status.busy": "2021-01-14T12:34:58.971624Z",
     "iopub.status.idle": "2021-01-14T12:34:59.012492Z",
     "shell.execute_reply": "2021-01-14T12:34:59.013013Z"
    },
    "papermill": {
     "duration": 0.129424,
     "end_time": "2021-01-14T12:34:59.013170",
     "exception": false,
     "start_time": "2021-01-14T12:34:58.883746",
     "status": "completed"
    },
    "tags": []
   },
   "outputs": [
    {
     "data": {
      "text/html": [
       "<div>\n",
       "<style scoped>\n",
       "    .dataframe tbody tr th:only-of-type {\n",
       "        vertical-align: middle;\n",
       "    }\n",
       "\n",
       "    .dataframe tbody tr th {\n",
       "        vertical-align: top;\n",
       "    }\n",
       "\n",
       "    .dataframe thead th {\n",
       "        text-align: right;\n",
       "    }\n",
       "</style>\n",
       "<table border=\"1\" class=\"dataframe\">\n",
       "  <thead>\n",
       "    <tr style=\"text-align: right;\">\n",
       "      <th></th>\n",
       "      <th>Item_Identifier</th>\n",
       "      <th>Item_Weight</th>\n",
       "      <th>Item_Fat_Content</th>\n",
       "      <th>Item_Visibility</th>\n",
       "      <th>Item_Type</th>\n",
       "      <th>Item_MRP</th>\n",
       "      <th>Outlet_Identifier</th>\n",
       "      <th>Outlet_Establishment_Year</th>\n",
       "      <th>Outlet_Size</th>\n",
       "      <th>Outlet_Location_Type</th>\n",
       "      <th>Outlet_Type</th>\n",
       "      <th>Item_Outlet_Sales</th>\n",
       "      <th>Duration</th>\n",
       "    </tr>\n",
       "  </thead>\n",
       "  <tbody>\n",
       "  </tbody>\n",
       "</table>\n",
       "</div>"
      ],
      "text/plain": [
       "Empty DataFrame\n",
       "Columns: [Item_Identifier, Item_Weight, Item_Fat_Content, Item_Visibility, Item_Type, Item_MRP, Outlet_Identifier, Outlet_Establishment_Year, Outlet_Size, Outlet_Location_Type, Outlet_Type, Item_Outlet_Sales, Duration]\n",
       "Index: []"
      ]
     },
     "execution_count": 40,
     "metadata": {},
     "output_type": "execute_result"
    }
   ],
   "source": [
    "train.loc[detect_outliers(train,[\"Item_Weight\",\"Item_Visibility\",\"Item_MRP\",\"Outlet_Establishment_Year\",\n",
    "                                    \"Item_Outlet_Sales\"])]"
   ]
  },
  {
   "cell_type": "code",
   "execution_count": 41,
   "metadata": {
    "execution": {
     "iopub.execute_input": "2021-01-14T12:34:59.181998Z",
     "iopub.status.busy": "2021-01-14T12:34:59.181375Z",
     "iopub.status.idle": "2021-01-14T12:34:59.200229Z",
     "shell.execute_reply": "2021-01-14T12:34:59.200821Z"
    },
    "papermill": {
     "duration": 0.105098,
     "end_time": "2021-01-14T12:34:59.200968",
     "exception": false,
     "start_time": "2021-01-14T12:34:59.095870",
     "status": "completed"
    },
    "tags": []
   },
   "outputs": [
    {
     "data": {
      "text/html": [
       "<div>\n",
       "<style scoped>\n",
       "    .dataframe tbody tr th:only-of-type {\n",
       "        vertical-align: middle;\n",
       "    }\n",
       "\n",
       "    .dataframe tbody tr th {\n",
       "        vertical-align: top;\n",
       "    }\n",
       "\n",
       "    .dataframe thead th {\n",
       "        text-align: right;\n",
       "    }\n",
       "</style>\n",
       "<table border=\"1\" class=\"dataframe\">\n",
       "  <thead>\n",
       "    <tr style=\"text-align: right;\">\n",
       "      <th></th>\n",
       "      <th>Item_Identifier</th>\n",
       "      <th>Item_Weight</th>\n",
       "      <th>Item_Fat_Content</th>\n",
       "      <th>Item_Visibility</th>\n",
       "      <th>Item_Type</th>\n",
       "      <th>Item_MRP</th>\n",
       "      <th>Outlet_Identifier</th>\n",
       "      <th>Outlet_Establishment_Year</th>\n",
       "      <th>Outlet_Size</th>\n",
       "      <th>Outlet_Location_Type</th>\n",
       "      <th>Outlet_Type</th>\n",
       "      <th>Duration</th>\n",
       "    </tr>\n",
       "  </thead>\n",
       "  <tbody>\n",
       "  </tbody>\n",
       "</table>\n",
       "</div>"
      ],
      "text/plain": [
       "Empty DataFrame\n",
       "Columns: [Item_Identifier, Item_Weight, Item_Fat_Content, Item_Visibility, Item_Type, Item_MRP, Outlet_Identifier, Outlet_Establishment_Year, Outlet_Size, Outlet_Location_Type, Outlet_Type, Duration]\n",
       "Index: []"
      ]
     },
     "execution_count": 41,
     "metadata": {},
     "output_type": "execute_result"
    }
   ],
   "source": [
    "test.loc[detect_outliers(test,[\"Item_Weight\",\"Item_Visibility\",\"Item_MRP\",\"Outlet_Establishment_Year\"])]"
   ]
  },
  {
   "cell_type": "markdown",
   "metadata": {
    "papermill": {
     "duration": 0.083301,
     "end_time": "2021-01-14T12:34:59.367135",
     "exception": false,
     "start_time": "2021-01-14T12:34:59.283834",
     "status": "completed"
    },
    "tags": []
   },
   "source": [
    "- We checked the outlier value but as you see there is nothing\n",
    "- Reminder : We just detect outliers in datas which types are int,float or any numerical type"
   ]
  },
  {
   "cell_type": "markdown",
   "metadata": {
    "papermill": {
     "duration": 0.082933,
     "end_time": "2021-01-14T12:34:59.533393",
     "exception": false,
     "start_time": "2021-01-14T12:34:59.450460",
     "status": "completed"
    },
    "tags": []
   },
   "source": [
    "### Visualizations to see sales amount relations with variables- Bivariate Data Analysis\n",
    "- We just do for the object columns to see how many of them affect the sales"
   ]
  },
  {
   "cell_type": "code",
   "execution_count": 42,
   "metadata": {
    "execution": {
     "iopub.execute_input": "2021-01-14T12:34:59.703278Z",
     "iopub.status.busy": "2021-01-14T12:34:59.702588Z",
     "iopub.status.idle": "2021-01-14T12:35:02.720384Z",
     "shell.execute_reply": "2021-01-14T12:35:02.720855Z"
    },
    "papermill": {
     "duration": 3.104471,
     "end_time": "2021-01-14T12:35:02.721009",
     "exception": false,
     "start_time": "2021-01-14T12:34:59.616538",
     "status": "completed"
    },
    "tags": []
   },
   "outputs": [
    {
     "data": {
      "image/png": "[encoded data removed]",
      "text/plain": [
       "<Figure size 1584x504 with 1 Axes>"
      ]
     },
     "metadata": {
      "needs_background": "light"
     },
     "output_type": "display_data"
    },
    {
     "data": {
      "image/png": "[encoded data removed]",
      "text/plain": [
       "<Figure size 1584x504 with 1 Axes>"
      ]
     },
     "metadata": {
      "needs_background": "light"
     },
     "output_type": "display_data"
    },
    {
     "data": {
      "image/png": "[encoded data removed]",
      "text/plain": [
       "<Figure size 1584x504 with 1 Axes>"
      ]
     },
     "metadata": {
      "needs_background": "light"
     },
     "output_type": "display_data"
    },
    {
     "data": {
      "image/png": "[encoded data removed]",
      "text/plain": [
       "<Figure size 1584x504 with 1 Axes>"
      ]
     },
     "metadata": {
      "needs_background": "light"
     },
     "output_type": "display_data"
    },
    {
     "data": {
      "image/png": "[encoded data removed]",
      "text/plain": [
       "<Figure size 1584x504 with 1 Axes>"
      ]
     },
     "metadata": {
      "needs_background": "light"
     },
     "output_type": "display_data"
    },
    {
     "data": {
      "image/png": "[encoded data removed]",
      "text/plain": [
       "<Figure size 1584x504 with 1 Axes>"
      ]
     },
     "metadata": {
      "needs_background": "light"
     },
     "output_type": "display_data"
    },
    {
     "data": {
      "image/png": "[encoded data removed]",
      "text/plain": [
       "<Figure size 1584x504 with 1 Axes>"
      ]
     },
     "metadata": {
      "needs_background": "light"
     },
     "output_type": "display_data"
    }
   ],
   "source": [
    "cols = train[[\"Item_Fat_Content\",\"Outlet_Identifier\",\"Outlet_Size\",\"Outlet_Location_Type\",\"Outlet_Type\",\"Item_Type\",\"Duration\"]]\n",
    "for i in cols:\n",
    "    plt.figure(figsize=(22,7))\n",
    "    ax = sns.barplot(cols[i],data[\"Item_Outlet_Sales\"],palette = \"CMRmap\") "
   ]
  },
  {
   "cell_type": "markdown",
   "metadata": {
    "papermill": {
     "duration": 0.089203,
     "end_time": "2021-01-14T12:35:02.901182",
     "exception": false,
     "start_time": "2021-01-14T12:35:02.811979",
     "status": "completed"
    },
    "tags": []
   },
   "source": [
    "#### INFERENCES From the Bivariate Visualizations\n",
    "- Low Fat people have reported more than the Regular one but as we see when we investigate the sales, regular ones bought items more than low fat ones , \n",
    "- The medium size Outlets are more than the others but about sales, In the High Outlets sales numbers are better\n",
    "- Tier 3 Outlets has the majority in the cities, but best sales numbers recorded in Tier 2 Outlets \n",
    "- As a outlet type Type 1 Supermarkets widely positioned than the others but about sales Tier 3 Supermarkets have the best result\n",
    "- The most stocked item types are Fruits, Vegetables and Snacks but best seller is Starchy Foods\n",
    "- And lastly, most of the outlets have established and stil working for 35 years also they are the best about sales"
   ]
  },
  {
   "cell_type": "markdown",
   "metadata": {
    "papermill": {
     "duration": 0.101,
     "end_time": "2021-01-14T12:35:03.111769",
     "exception": false,
     "start_time": "2021-01-14T12:35:03.010769",
     "status": "completed"
    },
    "tags": []
   },
   "source": [
    "### Visualizations to see sales amount relations with multivariables- Multivariate Data Analysis\n",
    "- We just do for the object columns (multivariate relationship) to see how many of them affect the sales"
   ]
  },
  {
   "cell_type": "markdown",
   "metadata": {
    "papermill": {
     "duration": 0.088076,
     "end_time": "2021-01-14T12:35:03.289853",
     "exception": false,
     "start_time": "2021-01-14T12:35:03.201777",
     "status": "completed"
    },
    "tags": []
   },
   "source": [
    "#### Firstly, investigating the correlation might help us"
   ]
  },
  {
   "cell_type": "code",
   "execution_count": 43,
   "metadata": {
    "execution": {
     "iopub.execute_input": "2021-01-14T12:35:03.472910Z",
     "iopub.status.busy": "2021-01-14T12:35:03.471956Z",
     "iopub.status.idle": "2021-01-14T12:35:03.809308Z",
     "shell.execute_reply": "2021-01-14T12:35:03.808749Z"
    },
    "papermill": {
     "duration": 0.430428,
     "end_time": "2021-01-14T12:35:03.809416",
     "exception": false,
     "start_time": "2021-01-14T12:35:03.378988",
     "status": "completed"
    },
    "tags": []
   },
   "outputs": [
    {
     "data": {
      "image/png": "[encoded data removed]",
      "text/plain": [
       "<Figure size 1440x1440 with 2 Axes>"
      ]
     },
     "metadata": {
      "needs_background": "light"
     },
     "output_type": "display_data"
    }
   ],
   "source": [
    "#Correlation\n",
    "plt.figure(figsize = (20,20))\n",
    "sns.heatmap(train.corr(), annot=True, fmt = \".3f\")\n",
    "plt.show()"
   ]
  },
  {
   "cell_type": "markdown",
   "metadata": {
    "papermill": {
     "duration": 0.092444,
     "end_time": "2021-01-14T12:35:03.992872",
     "exception": false,
     "start_time": "2021-01-14T12:35:03.900428",
     "status": "completed"
    },
    "tags": []
   },
   "source": [
    "- Item_MRP and Item_Weight is highly correlated one of them need to drop\n",
    "- Item_MRP and Sales is so highly correlated\n",
    "- Item_Weight and Sales correlated too "
   ]
  },
  {
   "cell_type": "code",
   "execution_count": 44,
   "metadata": {
    "execution": {
     "iopub.execute_input": "2021-01-14T12:35:04.183703Z",
     "iopub.status.busy": "2021-01-14T12:35:04.182975Z",
     "iopub.status.idle": "2021-01-14T12:35:05.459327Z",
     "shell.execute_reply": "2021-01-14T12:35:05.459859Z"
    },
    "papermill": {
     "duration": 1.375327,
     "end_time": "2021-01-14T12:35:05.460006",
     "exception": false,
     "start_time": "2021-01-14T12:35:04.084679",
     "status": "completed"
    },
    "tags": []
   },
   "outputs": [
    {
     "data": {
      "text/plain": [
       "<matplotlib.legend.Legend at 0x7f78c4f6c890>"
      ]
     },
     "execution_count": 44,
     "metadata": {},
     "output_type": "execute_result"
    },
    {
     "data": {
      "image/png": "[encoded data removed]",
      "text/plain": [
       "<Figure size 1800x360 with 1 Axes>"
      ]
     },
     "metadata": {
      "needs_background": "light"
     },
     "output_type": "display_data"
    }
   ],
   "source": [
    "plt.figure(figsize=(25,5))\n",
    "sns.barplot('Item_Type','Item_Outlet_Sales',hue='Item_Fat_Content',data=train,palette='RdYlGn')\n",
    "plt.legend()"
   ]
  },
  {
   "cell_type": "code",
   "execution_count": 45,
   "metadata": {
    "execution": {
     "iopub.execute_input": "2021-01-14T12:35:05.654210Z",
     "iopub.status.busy": "2021-01-14T12:35:05.653232Z",
     "iopub.status.idle": "2021-01-14T12:35:06.157200Z",
     "shell.execute_reply": "2021-01-14T12:35:06.156673Z"
    },
    "papermill": {
     "duration": 0.603621,
     "end_time": "2021-01-14T12:35:06.157313",
     "exception": false,
     "start_time": "2021-01-14T12:35:05.553692",
     "status": "completed"
    },
    "tags": []
   },
   "outputs": [
    {
     "data": {
      "text/plain": [
       "<matplotlib.legend.Legend at 0x7f78c4255d90>"
      ]
     },
     "execution_count": 45,
     "metadata": {},
     "output_type": "execute_result"
    },
    {
     "data": {
      "image/png": "[encoded data removed]",
      "text/plain": [
       "<Figure size 720x360 with 1 Axes>"
      ]
     },
     "metadata": {
      "needs_background": "light"
     },
     "output_type": "display_data"
    }
   ],
   "source": [
    "plt.figure(figsize=(10,5))\n",
    "sns.barplot('Outlet_Location_Type','Item_Outlet_Sales',hue='Outlet_Type',data=train,palette='magma')\n",
    "plt.legend()"
   ]
  },
  {
   "cell_type": "markdown",
   "metadata": {
    "papermill": {
     "duration": 0.092811,
     "end_time": "2021-01-14T12:35:06.344117",
     "exception": false,
     "start_time": "2021-01-14T12:35:06.251306",
     "status": "completed"
    },
    "tags": []
   },
   "source": [
    "### Feature Engineering\n",
    "- Label Encoding\n",
    "- Dropping useless columns\n",
    "- Splitting label and train,test\n",
    "- Feature Scaling"
   ]
  },
  {
   "cell_type": "markdown",
   "metadata": {
    "papermill": {
     "duration": 0.099209,
     "end_time": "2021-01-14T12:35:06.537553",
     "exception": false,
     "start_time": "2021-01-14T12:35:06.438344",
     "status": "completed"
    },
    "tags": []
   },
   "source": [
    "1) ***Label Encoding***\n",
    "- In Machine Learning classifiers have to be numerical format that's why we do label encoding"
   ]
  },
  {
   "cell_type": "code",
   "execution_count": 46,
   "metadata": {
    "execution": {
     "iopub.execute_input": "2021-01-14T12:35:06.784473Z",
     "iopub.status.busy": "2021-01-14T12:35:06.783526Z",
     "iopub.status.idle": "2021-01-14T12:35:06.884139Z",
     "shell.execute_reply": "2021-01-14T12:35:06.883571Z"
    },
    "papermill": {
     "duration": 0.230875,
     "end_time": "2021-01-14T12:35:06.884313",
     "exception": false,
     "start_time": "2021-01-14T12:35:06.653438",
     "status": "completed"
    },
    "tags": []
   },
   "outputs": [],
   "source": [
    "from sklearn.preprocessing import LabelEncoder\n",
    "le = LabelEncoder()\n",
    "colslabeled = ['Item_Fat_Content','Outlet_Location_Type','Outlet_Size','Outlet_Type','Item_Type']\n",
    "for i in colslabeled:\n",
    "    train[i] = le.fit_transform(train[i])\n",
    "    \n",
    "for i in colslabeled:\n",
    "    test[i] = le.fit_transform(test[i])\n",
    "    \n",
    "xc = train[colslabeled]"
   ]
  },
  {
   "cell_type": "code",
   "execution_count": 47,
   "metadata": {
    "execution": {
     "iopub.execute_input": "2021-01-14T12:35:07.081674Z",
     "iopub.status.busy": "2021-01-14T12:35:07.080669Z",
     "iopub.status.idle": "2021-01-14T12:35:07.085831Z",
     "shell.execute_reply": "2021-01-14T12:35:07.086354Z"
    },
    "papermill": {
     "duration": 0.106864,
     "end_time": "2021-01-14T12:35:07.086488",
     "exception": false,
     "start_time": "2021-01-14T12:35:06.979624",
     "status": "completed"
    },
    "tags": []
   },
   "outputs": [
    {
     "name": "stdout",
     "output_type": "stream",
     "text": [
      "For Item_Fat_Content column, Number of unique values :2\n",
      "For Outlet_Location_Type column, Number of unique values :3\n",
      "For Outlet_Size column, Number of unique values :3\n",
      "For Outlet_Type column, Number of unique values :4\n",
      "For Item_Type column, Number of unique values :16\n"
     ]
    }
   ],
   "source": [
    "for  i in xc:\n",
    "    print(\"For {} column, Number of unique values :{}\".format(xc[i].name,xc[i].nunique()))"
   ]
  },
  {
   "cell_type": "code",
   "execution_count": 48,
   "metadata": {
    "execution": {
     "iopub.execute_input": "2021-01-14T12:35:07.287704Z",
     "iopub.status.busy": "2021-01-14T12:35:07.286675Z",
     "iopub.status.idle": "2021-01-14T12:35:07.296364Z",
     "shell.execute_reply": "2021-01-14T12:35:07.296932Z"
    },
    "papermill": {
     "duration": 0.115636,
     "end_time": "2021-01-14T12:35:07.297108",
     "exception": false,
     "start_time": "2021-01-14T12:35:07.181472",
     "status": "completed"
    },
    "tags": []
   },
   "outputs": [
    {
     "data": {
      "text/html": [
       "<div>\n",
       "<style scoped>\n",
       "    .dataframe tbody tr th:only-of-type {\n",
       "        vertical-align: middle;\n",
       "    }\n",
       "\n",
       "    .dataframe tbody tr th {\n",
       "        vertical-align: top;\n",
       "    }\n",
       "\n",
       "    .dataframe thead th {\n",
       "        text-align: right;\n",
       "    }\n",
       "</style>\n",
       "<table border=\"1\" class=\"dataframe\">\n",
       "  <thead>\n",
       "    <tr style=\"text-align: right;\">\n",
       "      <th></th>\n",
       "      <th>Item_Identifier</th>\n",
       "      <th>Item_Weight</th>\n",
       "      <th>Item_Fat_Content</th>\n",
       "      <th>Item_Visibility</th>\n",
       "      <th>Item_Type</th>\n",
       "      <th>Item_MRP</th>\n",
       "      <th>Outlet_Identifier</th>\n",
       "      <th>Outlet_Establishment_Year</th>\n",
       "      <th>Outlet_Size</th>\n",
       "      <th>Outlet_Location_Type</th>\n",
       "      <th>Outlet_Type</th>\n",
       "      <th>Item_Outlet_Sales</th>\n",
       "      <th>Duration</th>\n",
       "    </tr>\n",
       "  </thead>\n",
       "  <tbody>\n",
       "    <tr>\n",
       "      <th>0</th>\n",
       "      <td>FDA15</td>\n",
       "      <td>9.30</td>\n",
       "      <td>0</td>\n",
       "      <td>0.016047</td>\n",
       "      <td>4</td>\n",
       "      <td>249.8092</td>\n",
       "      <td>OUT049</td>\n",
       "      <td>1999</td>\n",
       "      <td>1</td>\n",
       "      <td>0</td>\n",
       "      <td>1</td>\n",
       "      <td>3735.1380</td>\n",
       "      <td>22</td>\n",
       "    </tr>\n",
       "    <tr>\n",
       "      <th>1</th>\n",
       "      <td>DRC01</td>\n",
       "      <td>5.92</td>\n",
       "      <td>1</td>\n",
       "      <td>0.019278</td>\n",
       "      <td>14</td>\n",
       "      <td>48.2692</td>\n",
       "      <td>OUT018</td>\n",
       "      <td>2009</td>\n",
       "      <td>1</td>\n",
       "      <td>2</td>\n",
       "      <td>2</td>\n",
       "      <td>443.4228</td>\n",
       "      <td>12</td>\n",
       "    </tr>\n",
       "    <tr>\n",
       "      <th>2</th>\n",
       "      <td>FDN15</td>\n",
       "      <td>17.50</td>\n",
       "      <td>0</td>\n",
       "      <td>0.016760</td>\n",
       "      <td>10</td>\n",
       "      <td>141.6180</td>\n",
       "      <td>OUT049</td>\n",
       "      <td>1999</td>\n",
       "      <td>1</td>\n",
       "      <td>0</td>\n",
       "      <td>1</td>\n",
       "      <td>2097.2700</td>\n",
       "      <td>22</td>\n",
       "    </tr>\n",
       "    <tr>\n",
       "      <th>3</th>\n",
       "      <td>FDX07</td>\n",
       "      <td>19.20</td>\n",
       "      <td>1</td>\n",
       "      <td>0.000000</td>\n",
       "      <td>6</td>\n",
       "      <td>182.0950</td>\n",
       "      <td>OUT010</td>\n",
       "      <td>1998</td>\n",
       "      <td>1</td>\n",
       "      <td>2</td>\n",
       "      <td>0</td>\n",
       "      <td>732.3800</td>\n",
       "      <td>23</td>\n",
       "    </tr>\n",
       "    <tr>\n",
       "      <th>4</th>\n",
       "      <td>NCD19</td>\n",
       "      <td>8.93</td>\n",
       "      <td>0</td>\n",
       "      <td>0.000000</td>\n",
       "      <td>9</td>\n",
       "      <td>53.8614</td>\n",
       "      <td>OUT013</td>\n",
       "      <td>1987</td>\n",
       "      <td>0</td>\n",
       "      <td>2</td>\n",
       "      <td>1</td>\n",
       "      <td>994.7052</td>\n",
       "      <td>34</td>\n",
       "    </tr>\n",
       "  </tbody>\n",
       "</table>\n",
       "</div>"
      ],
      "text/plain": [
       "  Item_Identifier  Item_Weight  Item_Fat_Content  Item_Visibility  Item_Type  \\\n",
       "0           FDA15         9.30                 0         0.016047          4   \n",
       "1           DRC01         5.92                 1         0.019278         14   \n",
       "2           FDN15        17.50                 0         0.016760         10   \n",
       "3           FDX07        19.20                 1         0.000000          6   \n",
       "4           NCD19         8.93                 0         0.000000          9   \n",
       "\n",
       "   Item_MRP Outlet_Identifier  Outlet_Establishment_Year  Outlet_Size  \\\n",
       "0  249.8092            OUT049                       1999            1   \n",
       "1   48.2692            OUT018                       2009            1   \n",
       "2  141.6180            OUT049                       1999            1   \n",
       "3  182.0950            OUT010                       1998            1   \n",
       "4   53.8614            OUT013                       1987            0   \n",
       "\n",
       "   Outlet_Location_Type  Outlet_Type  Item_Outlet_Sales Duration  \n",
       "0                     0            1          3735.1380       22  \n",
       "1                     2            2           443.4228       12  \n",
       "2                     0            1          2097.2700       22  \n",
       "3                     2            0           732.3800       23  \n",
       "4                     2            1           994.7052       34  "
      ]
     },
     "execution_count": 48,
     "metadata": {},
     "output_type": "execute_result"
    }
   ],
   "source": [
    "train.head()"
   ]
  },
  {
   "cell_type": "markdown",
   "metadata": {
    "papermill": {
     "duration": 0.093899,
     "end_time": "2021-01-14T12:35:07.490080",
     "exception": false,
     "start_time": "2021-01-14T12:35:07.396181",
     "status": "completed"
    },
    "tags": []
   },
   "source": [
    "2) *Dropping Columns*\n",
    "- \"Item_Identifier\",\n",
    "- \"Outlet_Identifier\",\n",
    "- \"Outlet_Establishment_Year\" is not useful for our model that's why we need to drop them"
   ]
  },
  {
   "cell_type": "code",
   "execution_count": 49,
   "metadata": {
    "execution": {
     "iopub.execute_input": "2021-01-14T12:35:07.683930Z",
     "iopub.status.busy": "2021-01-14T12:35:07.682986Z",
     "iopub.status.idle": "2021-01-14T12:35:07.691316Z",
     "shell.execute_reply": "2021-01-14T12:35:07.691887Z"
    },
    "papermill": {
     "duration": 0.107253,
     "end_time": "2021-01-14T12:35:07.692026",
     "exception": false,
     "start_time": "2021-01-14T12:35:07.584773",
     "status": "completed"
    },
    "tags": []
   },
   "outputs": [],
   "source": [
    "train.drop([\"Item_Identifier\",\"Outlet_Identifier\",\"Outlet_Establishment_Year\"],axis=1, inplace =True)\n",
    "test.drop([\"Item_Identifier\",\"Outlet_Identifier\",\"Outlet_Establishment_Year\"],axis=1, inplace =True)"
   ]
  },
  {
   "cell_type": "markdown",
   "metadata": {
    "papermill": {
     "duration": 0.097062,
     "end_time": "2021-01-14T12:35:07.884137",
     "exception": false,
     "start_time": "2021-01-14T12:35:07.787075",
     "status": "completed"
    },
    "tags": []
   },
   "source": [
    "3) *Splitting Train Test Split and Label*\n",
    "- We'll use our test set as a validation set, so firstly;\n",
    "- We need to seperate our label ,\"Item_Outlet_Sales\", \n",
    "- Then we need to do train-test split"
   ]
  },
  {
   "cell_type": "code",
   "execution_count": 50,
   "metadata": {
    "execution": {
     "iopub.execute_input": "2021-01-14T12:35:08.079314Z",
     "iopub.status.busy": "2021-01-14T12:35:08.078332Z",
     "iopub.status.idle": "2021-01-14T12:35:08.084338Z",
     "shell.execute_reply": "2021-01-14T12:35:08.084890Z"
    },
    "papermill": {
     "duration": 0.104373,
     "end_time": "2021-01-14T12:35:08.085032",
     "exception": false,
     "start_time": "2021-01-14T12:35:07.980659",
     "status": "completed"
    },
    "tags": []
   },
   "outputs": [],
   "source": [
    "y=train[\"Item_Outlet_Sales\"]\n",
    "X=train.drop([\"Item_Outlet_Sales\"],axis=1)"
   ]
  },
  {
   "cell_type": "code",
   "execution_count": 51,
   "metadata": {
    "execution": {
     "iopub.execute_input": "2021-01-14T12:35:08.279606Z",
     "iopub.status.busy": "2021-01-14T12:35:08.278633Z",
     "iopub.status.idle": "2021-01-14T12:35:08.292138Z",
     "shell.execute_reply": "2021-01-14T12:35:08.292678Z"
    },
    "papermill": {
     "duration": 0.112045,
     "end_time": "2021-01-14T12:35:08.292809",
     "exception": false,
     "start_time": "2021-01-14T12:35:08.180764",
     "status": "completed"
    },
    "tags": []
   },
   "outputs": [
    {
     "data": {
      "text/html": [
       "<div>\n",
       "<style scoped>\n",
       "    .dataframe tbody tr th:only-of-type {\n",
       "        vertical-align: middle;\n",
       "    }\n",
       "\n",
       "    .dataframe tbody tr th {\n",
       "        vertical-align: top;\n",
       "    }\n",
       "\n",
       "    .dataframe thead th {\n",
       "        text-align: right;\n",
       "    }\n",
       "</style>\n",
       "<table border=\"1\" class=\"dataframe\">\n",
       "  <thead>\n",
       "    <tr style=\"text-align: right;\">\n",
       "      <th></th>\n",
       "      <th>Item_Weight</th>\n",
       "      <th>Item_Fat_Content</th>\n",
       "      <th>Item_Visibility</th>\n",
       "      <th>Item_Type</th>\n",
       "      <th>Item_MRP</th>\n",
       "      <th>Outlet_Size</th>\n",
       "      <th>Outlet_Location_Type</th>\n",
       "      <th>Outlet_Type</th>\n",
       "      <th>Duration</th>\n",
       "    </tr>\n",
       "  </thead>\n",
       "  <tbody>\n",
       "    <tr>\n",
       "      <th>0</th>\n",
       "      <td>9.30</td>\n",
       "      <td>0</td>\n",
       "      <td>0.016047</td>\n",
       "      <td>4</td>\n",
       "      <td>249.8092</td>\n",
       "      <td>1</td>\n",
       "      <td>0</td>\n",
       "      <td>1</td>\n",
       "      <td>22</td>\n",
       "    </tr>\n",
       "    <tr>\n",
       "      <th>1</th>\n",
       "      <td>5.92</td>\n",
       "      <td>1</td>\n",
       "      <td>0.019278</td>\n",
       "      <td>14</td>\n",
       "      <td>48.2692</td>\n",
       "      <td>1</td>\n",
       "      <td>2</td>\n",
       "      <td>2</td>\n",
       "      <td>12</td>\n",
       "    </tr>\n",
       "    <tr>\n",
       "      <th>2</th>\n",
       "      <td>17.50</td>\n",
       "      <td>0</td>\n",
       "      <td>0.016760</td>\n",
       "      <td>10</td>\n",
       "      <td>141.6180</td>\n",
       "      <td>1</td>\n",
       "      <td>0</td>\n",
       "      <td>1</td>\n",
       "      <td>22</td>\n",
       "    </tr>\n",
       "    <tr>\n",
       "      <th>3</th>\n",
       "      <td>19.20</td>\n",
       "      <td>1</td>\n",
       "      <td>0.000000</td>\n",
       "      <td>6</td>\n",
       "      <td>182.0950</td>\n",
       "      <td>1</td>\n",
       "      <td>2</td>\n",
       "      <td>0</td>\n",
       "      <td>23</td>\n",
       "    </tr>\n",
       "    <tr>\n",
       "      <th>4</th>\n",
       "      <td>8.93</td>\n",
       "      <td>0</td>\n",
       "      <td>0.000000</td>\n",
       "      <td>9</td>\n",
       "      <td>53.8614</td>\n",
       "      <td>0</td>\n",
       "      <td>2</td>\n",
       "      <td>1</td>\n",
       "      <td>34</td>\n",
       "    </tr>\n",
       "  </tbody>\n",
       "</table>\n",
       "</div>"
      ],
      "text/plain": [
       "   Item_Weight  Item_Fat_Content  Item_Visibility  Item_Type  Item_MRP  \\\n",
       "0         9.30                 0         0.016047          4  249.8092   \n",
       "1         5.92                 1         0.019278         14   48.2692   \n",
       "2        17.50                 0         0.016760         10  141.6180   \n",
       "3        19.20                 1         0.000000          6  182.0950   \n",
       "4         8.93                 0         0.000000          9   53.8614   \n",
       "\n",
       "   Outlet_Size  Outlet_Location_Type  Outlet_Type Duration  \n",
       "0            1                     0            1       22  \n",
       "1            1                     2            2       12  \n",
       "2            1                     0            1       22  \n",
       "3            1                     2            0       23  \n",
       "4            0                     2            1       34  "
      ]
     },
     "execution_count": 51,
     "metadata": {},
     "output_type": "execute_result"
    }
   ],
   "source": [
    "X.head()"
   ]
  },
  {
   "cell_type": "markdown",
   "metadata": {
    "papermill": {
     "duration": 0.096172,
     "end_time": "2021-01-14T12:35:08.484952",
     "exception": false,
     "start_time": "2021-01-14T12:35:08.388780",
     "status": "completed"
    },
    "tags": []
   },
   "source": [
    "4) *Feature Scaling*"
   ]
  },
  {
   "cell_type": "code",
   "execution_count": 52,
   "metadata": {
    "execution": {
     "iopub.execute_input": "2021-01-14T12:35:08.682911Z",
     "iopub.status.busy": "2021-01-14T12:35:08.681990Z",
     "iopub.status.idle": "2021-01-14T12:35:08.685576Z",
     "shell.execute_reply": "2021-01-14T12:35:08.686094Z"
    },
    "papermill": {
     "duration": 0.105481,
     "end_time": "2021-01-14T12:35:08.686224",
     "exception": false,
     "start_time": "2021-01-14T12:35:08.580743",
     "status": "completed"
    },
    "tags": []
   },
   "outputs": [
    {
     "data": {
      "text/plain": [
       "Index(['Item_Weight', 'Item_Fat_Content', 'Item_Visibility', 'Item_Type',\n",
       "       'Item_MRP', 'Outlet_Size', 'Outlet_Location_Type', 'Outlet_Type',\n",
       "       'Duration'],\n",
       "      dtype='object')"
      ]
     },
     "execution_count": 52,
     "metadata": {},
     "output_type": "execute_result"
    }
   ],
   "source": [
    "X.columns"
   ]
  },
  {
   "cell_type": "code",
   "execution_count": 53,
   "metadata": {
    "execution": {
     "iopub.execute_input": "2021-01-14T12:35:08.884640Z",
     "iopub.status.busy": "2021-01-14T12:35:08.883667Z",
     "iopub.status.idle": "2021-01-14T12:35:08.888314Z",
     "shell.execute_reply": "2021-01-14T12:35:08.888830Z"
    },
    "papermill": {
     "duration": 0.106036,
     "end_time": "2021-01-14T12:35:08.888969",
     "exception": false,
     "start_time": "2021-01-14T12:35:08.782933",
     "status": "completed"
    },
    "tags": []
   },
   "outputs": [],
   "source": [
    "features =[]\n",
    "for i in X.columns:\n",
    "    features.append([i])\n",
    "#The columns have added to features list"
   ]
  },
  {
   "cell_type": "code",
   "execution_count": 54,
   "metadata": {
    "execution": {
     "iopub.execute_input": "2021-01-14T12:35:09.088342Z",
     "iopub.status.busy": "2021-01-14T12:35:09.087324Z",
     "iopub.status.idle": "2021-01-14T12:35:09.150556Z",
     "shell.execute_reply": "2021-01-14T12:35:09.149847Z"
    },
    "papermill": {
     "duration": 0.163334,
     "end_time": "2021-01-14T12:35:09.150669",
     "exception": false,
     "start_time": "2021-01-14T12:35:08.987335",
     "status": "completed"
    },
    "tags": []
   },
   "outputs": [],
   "source": [
    "#Train-Test Split\n",
    "from sklearn.model_selection import train_test_split\n",
    "X_train,X_test,y_train,y_test = train_test_split(X,y,test_size=0.2, random_state = 42)"
   ]
  },
  {
   "cell_type": "code",
   "execution_count": 55,
   "metadata": {
    "execution": {
     "iopub.execute_input": "2021-01-14T12:35:09.395603Z",
     "iopub.status.busy": "2021-01-14T12:35:09.390507Z",
     "iopub.status.idle": "2021-01-14T12:35:09.398961Z",
     "shell.execute_reply": "2021-01-14T12:35:09.399470Z"
    },
    "papermill": {
     "duration": 0.152392,
     "end_time": "2021-01-14T12:35:09.399604",
     "exception": false,
     "start_time": "2021-01-14T12:35:09.247212",
     "status": "completed"
    },
    "tags": []
   },
   "outputs": [
    {
     "data": {
      "text/html": [
       "<div>\n",
       "<style scoped>\n",
       "    .dataframe tbody tr th:only-of-type {\n",
       "        vertical-align: middle;\n",
       "    }\n",
       "\n",
       "    .dataframe tbody tr th {\n",
       "        vertical-align: top;\n",
       "    }\n",
       "\n",
       "    .dataframe thead th {\n",
       "        text-align: right;\n",
       "    }\n",
       "</style>\n",
       "<table border=\"1\" class=\"dataframe\">\n",
       "  <thead>\n",
       "    <tr style=\"text-align: right;\">\n",
       "      <th></th>\n",
       "      <th>Item_Weight</th>\n",
       "      <th>Item_Fat_Content</th>\n",
       "      <th>Item_Visibility</th>\n",
       "      <th>Item_Type</th>\n",
       "      <th>Item_MRP</th>\n",
       "      <th>Outlet_Size</th>\n",
       "      <th>Outlet_Location_Type</th>\n",
       "      <th>Outlet_Type</th>\n",
       "      <th>Duration</th>\n",
       "    </tr>\n",
       "  </thead>\n",
       "  <tbody>\n",
       "    <tr>\n",
       "      <th>549</th>\n",
       "      <td>9.500</td>\n",
       "      <td>1</td>\n",
       "      <td>0.035206</td>\n",
       "      <td>6</td>\n",
       "      <td>171.3448</td>\n",
       "      <td>1</td>\n",
       "      <td>0</td>\n",
       "      <td>1</td>\n",
       "      <td>22</td>\n",
       "    </tr>\n",
       "    <tr>\n",
       "      <th>7757</th>\n",
       "      <td>18.000</td>\n",
       "      <td>0</td>\n",
       "      <td>0.047473</td>\n",
       "      <td>9</td>\n",
       "      <td>170.5422</td>\n",
       "      <td>1</td>\n",
       "      <td>1</td>\n",
       "      <td>1</td>\n",
       "      <td>19</td>\n",
       "    </tr>\n",
       "    <tr>\n",
       "      <th>764</th>\n",
       "      <td>17.600</td>\n",
       "      <td>1</td>\n",
       "      <td>0.076122</td>\n",
       "      <td>10</td>\n",
       "      <td>111.7202</td>\n",
       "      <td>2</td>\n",
       "      <td>0</td>\n",
       "      <td>1</td>\n",
       "      <td>24</td>\n",
       "    </tr>\n",
       "    <tr>\n",
       "      <th>6867</th>\n",
       "      <td>8.325</td>\n",
       "      <td>0</td>\n",
       "      <td>0.029845</td>\n",
       "      <td>6</td>\n",
       "      <td>41.6138</td>\n",
       "      <td>1</td>\n",
       "      <td>1</td>\n",
       "      <td>1</td>\n",
       "      <td>19</td>\n",
       "    </tr>\n",
       "    <tr>\n",
       "      <th>2716</th>\n",
       "      <td>12.850</td>\n",
       "      <td>0</td>\n",
       "      <td>0.137228</td>\n",
       "      <td>13</td>\n",
       "      <td>155.5630</td>\n",
       "      <td>2</td>\n",
       "      <td>0</td>\n",
       "      <td>1</td>\n",
       "      <td>24</td>\n",
       "    </tr>\n",
       "  </tbody>\n",
       "</table>\n",
       "</div>"
      ],
      "text/plain": [
       "      Item_Weight  Item_Fat_Content  Item_Visibility  Item_Type  Item_MRP  \\\n",
       "549         9.500                 1         0.035206          6  171.3448   \n",
       "7757       18.000                 0         0.047473          9  170.5422   \n",
       "764        17.600                 1         0.076122         10  111.7202   \n",
       "6867        8.325                 0         0.029845          6   41.6138   \n",
       "2716       12.850                 0         0.137228         13  155.5630   \n",
       "\n",
       "      Outlet_Size  Outlet_Location_Type  Outlet_Type Duration  \n",
       "549             1                     0            1       22  \n",
       "7757            1                     1            1       19  \n",
       "764             2                     0            1       24  \n",
       "6867            1                     1            1       19  \n",
       "2716            2                     0            1       24  "
      ]
     },
     "execution_count": 55,
     "metadata": {},
     "output_type": "execute_result"
    }
   ],
   "source": [
    "X_train.head()"
   ]
  },
  {
   "cell_type": "code",
   "execution_count": 56,
   "metadata": {
    "execution": {
     "iopub.execute_input": "2021-01-14T12:35:09.596431Z",
     "iopub.status.busy": "2021-01-14T12:35:09.595799Z",
     "iopub.status.idle": "2021-01-14T12:35:09.598742Z",
     "shell.execute_reply": "2021-01-14T12:35:09.599199Z"
    },
    "papermill": {
     "duration": 0.102804,
     "end_time": "2021-01-14T12:35:09.599337",
     "exception": false,
     "start_time": "2021-01-14T12:35:09.496533",
     "status": "completed"
    },
    "tags": []
   },
   "outputs": [],
   "source": [
    "# from sklearn.preprocessing import StandardScaler\n",
    "# sc = StandardScaler()\n",
    "# X_train = sc.fit_transform(X_train)\n",
    "# X_test = sc.fit_transform(X_test)\n",
    "# #After the process, our data turns into numpy array"
   ]
  },
  {
   "cell_type": "markdown",
   "metadata": {
    "papermill": {
     "duration": 0.096947,
     "end_time": "2021-01-14T12:35:09.793431",
     "exception": false,
     "start_time": "2021-01-14T12:35:09.696484",
     "status": "completed"
    },
    "tags": []
   },
   "source": [
    "## Building Regression Models\n",
    "- Linear Regression\n",
    "- Random Forest Regressor"
   ]
  },
  {
   "cell_type": "markdown",
   "metadata": {
    "papermill": {
     "duration": 0.101143,
     "end_time": "2021-01-14T12:35:09.992232",
     "exception": false,
     "start_time": "2021-01-14T12:35:09.891089",
     "status": "completed"
    },
    "tags": []
   },
   "source": [
    "### Linear Regression"
   ]
  },
  {
   "cell_type": "code",
   "execution_count": 57,
   "metadata": {
    "execution": {
     "iopub.execute_input": "2021-01-14T12:35:10.191939Z",
     "iopub.status.busy": "2021-01-14T12:35:10.191322Z",
     "iopub.status.idle": "2021-01-14T12:35:10.322574Z",
     "shell.execute_reply": "2021-01-14T12:35:10.321887Z"
    },
    "papermill": {
     "duration": 0.231885,
     "end_time": "2021-01-14T12:35:10.322719",
     "exception": false,
     "start_time": "2021-01-14T12:35:10.090834",
     "status": "completed"
    },
    "tags": []
   },
   "outputs": [],
   "source": [
    "from sklearn.linear_model import LinearRegression\n",
    "Lr = LinearRegression(normalize=True)\n",
    "Lr.fit(X_train,y_train)\n",
    "y_pred = Lr.predict(X_test)"
   ]
  },
  {
   "cell_type": "markdown",
   "metadata": {
    "papermill": {
     "duration": 0.098235,
     "end_time": "2021-01-14T12:35:10.522639",
     "exception": false,
     "start_time": "2021-01-14T12:35:10.424404",
     "status": "completed"
    },
    "tags": []
   },
   "source": [
    "*- Evaluation Metrics*\n",
    "- R2\n",
    "+ Adjusted R2\n",
    "+ Accuracy Score\n",
    "+ Mean Absolute Error\n",
    "+ Mean Squared Error"
   ]
  },
  {
   "cell_type": "code",
   "execution_count": 58,
   "metadata": {
    "execution": {
     "iopub.execute_input": "2021-01-14T12:35:10.727154Z",
     "iopub.status.busy": "2021-01-14T12:35:10.726077Z",
     "iopub.status.idle": "2021-01-14T12:35:10.730246Z",
     "shell.execute_reply": "2021-01-14T12:35:10.729580Z"
    },
    "papermill": {
     "duration": 0.107744,
     "end_time": "2021-01-14T12:35:10.730364",
     "exception": false,
     "start_time": "2021-01-14T12:35:10.622620",
     "status": "completed"
    },
    "tags": []
   },
   "outputs": [
    {
     "name": "stdout",
     "output_type": "stream",
     "text": [
      "r2 score is : 0.5241348086667035\n"
     ]
    }
   ],
   "source": [
    "#R2 Score\n",
    "from sklearn.metrics import r2_score\n",
    "R2 = r2_score(y_test,y_pred)\n",
    "print(\"r2 score is :\",R2)"
   ]
  },
  {
   "cell_type": "code",
   "execution_count": 59,
   "metadata": {
    "execution": {
     "iopub.execute_input": "2021-01-14T12:35:10.939919Z",
     "iopub.status.busy": "2021-01-14T12:35:10.939268Z",
     "iopub.status.idle": "2021-01-14T12:35:10.960379Z",
     "shell.execute_reply": "2021-01-14T12:35:10.960880Z"
    },
    "papermill": {
     "duration": 0.130154,
     "end_time": "2021-01-14T12:35:10.961026",
     "exception": false,
     "start_time": "2021-01-14T12:35:10.830872",
     "status": "completed"
    },
    "tags": []
   },
   "outputs": [
    {
     "name": "stdout",
     "output_type": "stream",
     "text": [
      "Adj. R2 of the train set 0.503112203319487\n",
      "Adj. R2 of the test set 0.5216080908366152\n"
     ]
    }
   ],
   "source": [
    "#Adjusted R2 Score\n",
    "def adj_r2 (X,y,model):\n",
    "    r_squared = model.score(X,y)\n",
    "    return(1 - (1-r_squared)*(len(y)-1)/(len(y)-X.shape[1]-1))\n",
    "\n",
    "#Checking Adjusted R2 score of the train and test datas \n",
    "print(\"Adj. R2 of the train set\",adj_r2(X_train,y_train,Lr))\n",
    "print(\"Adj. R2 of the test set\",adj_r2(X_test,y_test,Lr))"
   ]
  },
  {
   "cell_type": "code",
   "execution_count": 60,
   "metadata": {
    "execution": {
     "iopub.execute_input": "2021-01-14T12:35:11.176607Z",
     "iopub.status.busy": "2021-01-14T12:35:11.175795Z",
     "iopub.status.idle": "2021-01-14T12:35:11.188543Z",
     "shell.execute_reply": "2021-01-14T12:35:11.189415Z"
    },
    "papermill": {
     "duration": 0.127461,
     "end_time": "2021-01-14T12:35:11.189607",
     "exception": false,
     "start_time": "2021-01-14T12:35:11.062146",
     "status": "completed"
    },
    "tags": []
   },
   "outputs": [
    {
     "name": "stdout",
     "output_type": "stream",
     "text": [
      "Score of the train set 0.5037682089187425\n",
      "Score of the test set 0.5241348086667035\n"
     ]
    }
   ],
   "source": [
    "#Accuracy Score\n",
    "print(\"Score of the train set\",Lr.score(X_train,y_train))\n",
    "print(\"Score of the test set\",Lr.score(X_test,y_test))"
   ]
  },
  {
   "cell_type": "code",
   "execution_count": 61,
   "metadata": {
    "execution": {
     "iopub.execute_input": "2021-01-14T12:35:11.391907Z",
     "iopub.status.busy": "2021-01-14T12:35:11.390919Z",
     "iopub.status.idle": "2021-01-14T12:35:11.398830Z",
     "shell.execute_reply": "2021-01-14T12:35:11.399433Z"
    },
    "papermill": {
     "duration": 0.110402,
     "end_time": "2021-01-14T12:35:11.399583",
     "exception": false,
     "start_time": "2021-01-14T12:35:11.289181",
     "status": "completed"
    },
    "tags": []
   },
   "outputs": [
    {
     "name": "stdout",
     "output_type": "stream",
     "text": [
      "Mean Absolute Error : 856.0338972476161\n",
      "Mean Squared Error : 1293387.3457887392\n"
     ]
    }
   ],
   "source": [
    "#Mean Abs. Error and Mean Squared Error\n",
    "from sklearn.metrics import mean_absolute_error,mean_squared_error\n",
    "MAE = mean_absolute_error(y_test,y_pred)\n",
    "MSE = mean_squared_error(y_test,y_pred)\n",
    "print(\"Mean Absolute Error :\",MAE)\n",
    "print(\"Mean Squared Error :\",MSE)"
   ]
  },
  {
   "cell_type": "markdown",
   "metadata": {
    "papermill": {
     "duration": 0.09898,
     "end_time": "2021-01-14T12:35:11.597877",
     "exception": false,
     "start_time": "2021-01-14T12:35:11.498897",
     "status": "completed"
    },
    "tags": []
   },
   "source": [
    "*Our model is not accurate enough so let's try regularization technics*\n",
    "- Lasso (L1)"
   ]
  },
  {
   "cell_type": "code",
   "execution_count": 62,
   "metadata": {
    "execution": {
     "iopub.execute_input": "2021-01-14T12:35:11.802824Z",
     "iopub.status.busy": "2021-01-14T12:35:11.802191Z",
     "iopub.status.idle": "2021-01-14T12:35:11.804798Z",
     "shell.execute_reply": "2021-01-14T12:35:11.805313Z"
    },
    "papermill": {
     "duration": 0.108384,
     "end_time": "2021-01-14T12:35:11.805455",
     "exception": false,
     "start_time": "2021-01-14T12:35:11.697071",
     "status": "completed"
    },
    "tags": []
   },
   "outputs": [
    {
     "data": {
      "text/plain": [
       "array([0.01, 0.06, 0.11, 0.16, 0.21, 0.26, 0.31, 0.36, 0.41, 0.46, 0.51,\n",
       "       0.56, 0.61, 0.66, 0.71, 0.76, 0.81, 0.86, 0.91, 0.96])"
      ]
     },
     "execution_count": 62,
     "metadata": {},
     "output_type": "execute_result"
    }
   ],
   "source": [
    "move = np.arange(0.01,0.99,0.05)\n",
    "move"
   ]
  },
  {
   "cell_type": "code",
   "execution_count": 63,
   "metadata": {
    "execution": {
     "iopub.execute_input": "2021-01-14T12:35:12.010777Z",
     "iopub.status.busy": "2021-01-14T12:35:12.010128Z",
     "iopub.status.idle": "2021-01-14T12:35:12.458851Z",
     "shell.execute_reply": "2021-01-14T12:35:12.458347Z"
    },
    "papermill": {
     "duration": 0.55338,
     "end_time": "2021-01-14T12:35:12.458962",
     "exception": false,
     "start_time": "2021-01-14T12:35:11.905582",
     "status": "completed"
    },
    "tags": []
   },
   "outputs": [
    {
     "name": "stdout",
     "output_type": "stream",
     "text": [
      "Train, For alpha = 0.01, model score is 0.503768195471456 \n",
      "Train, For alpha = 0.060000000000000005, model score is 0.5037677247771106 \n",
      "Train, For alpha = 0.11, model score is 0.5037665816894545 \n",
      "Train, For alpha = 0.16000000000000003, model score is 0.503764766416791 \n",
      "Train, For alpha = 0.21000000000000002, model score is 0.503762278323596 \n",
      "Train, For alpha = 0.26, model score is 0.5037591176993201 \n",
      "Train, For alpha = 0.31000000000000005, model score is 0.50375528618771 \n",
      "Train, For alpha = 0.36000000000000004, model score is 0.5037507807707489 \n",
      "Train, For alpha = 0.41000000000000003, model score is 0.5037456028222171 \n",
      "Train, For alpha = 0.46, model score is 0.5037397523421145 \n",
      "Train, For alpha = 0.51, model score is 0.5037332293304413 \n",
      "Train, For alpha = 0.56, model score is 0.5037260396949099 \n",
      "Train, For alpha = 0.6100000000000001, model score is 0.5037181721551787 \n",
      "Train, For alpha = 0.66, model score is 0.5037096320828951 \n",
      "Train, For alpha = 0.7100000000000001, model score is 0.5037004194780594 \n",
      "Train, For alpha = 0.76, model score is 0.5036905343444877 \n",
      "Train, For alpha = 0.81, model score is 0.5036799766813269 \n",
      "Train, For alpha = 0.8600000000000001, model score is 0.5036687464864379 \n",
      "Train, For alpha = 0.91, model score is 0.5036568437598208 \n",
      "Train, For alpha = 0.9600000000000001, model score is 0.5036442685014757 \n"
     ]
    }
   ],
   "source": [
    "#Lasso (L1) Regularization \n",
    "from sklearn.linear_model import Lasso\n",
    "for i in move:\n",
    "    lasso_model = Lasso(alpha =i)\n",
    "    lasso_model.fit(X_train,y_train)\n",
    "    print(\"Train, For alpha = {}, model score is {} \".format(i,lasso_model.score(X_train,y_train)))"
   ]
  },
  {
   "cell_type": "markdown",
   "metadata": {
    "papermill": {
     "duration": 0.100633,
     "end_time": "2021-01-14T12:35:12.660606",
     "exception": false,
     "start_time": "2021-01-14T12:35:12.559973",
     "status": "completed"
    },
    "tags": []
   },
   "source": [
    "### Random Forest Regressor"
   ]
  },
  {
   "cell_type": "code",
   "execution_count": 64,
   "metadata": {
    "execution": {
     "iopub.execute_input": "2021-01-14T12:35:12.868560Z",
     "iopub.status.busy": "2021-01-14T12:35:12.867747Z",
     "iopub.status.idle": "2021-01-14T12:35:13.085196Z",
     "shell.execute_reply": "2021-01-14T12:35:13.085695Z"
    },
    "papermill": {
     "duration": 0.324212,
     "end_time": "2021-01-14T12:35:13.085872",
     "exception": false,
     "start_time": "2021-01-14T12:35:12.761660",
     "status": "completed"
    },
    "tags": []
   },
   "outputs": [],
   "source": [
    "from sklearn.ensemble import RandomForestRegressor\n",
    "Rf = RandomForestRegressor(n_estimators = 300,\n",
    "                           criterion = \"mse\", \n",
    "                           max_depth =4, \n",
    "                           n_jobs = -1,\n",
    "                           random_state = 42)"
   ]
  },
  {
   "cell_type": "code",
   "execution_count": 65,
   "metadata": {
    "execution": {
     "iopub.execute_input": "2021-01-14T12:35:13.302580Z",
     "iopub.status.busy": "2021-01-14T12:35:13.295328Z",
     "iopub.status.idle": "2021-01-14T12:35:14.889521Z",
     "shell.execute_reply": "2021-01-14T12:35:14.888885Z"
    },
    "papermill": {
     "duration": 1.702237,
     "end_time": "2021-01-14T12:35:14.889635",
     "exception": false,
     "start_time": "2021-01-14T12:35:13.187398",
     "status": "completed"
    },
    "tags": []
   },
   "outputs": [],
   "source": [
    "Rf.fit(X_train,y_train)\n",
    "y_predrf = Rf.predict(X_test)"
   ]
  },
  {
   "cell_type": "markdown",
   "metadata": {
    "papermill": {
     "duration": 0.101956,
     "end_time": "2021-01-14T12:35:15.092891",
     "exception": false,
     "start_time": "2021-01-14T12:35:14.990935",
     "status": "completed"
    },
    "tags": []
   },
   "source": [
    "*- Evaluation Metrics*\n",
    "- R2\n",
    "+ Adjusted R2\n",
    "+ Accuracy Score\n",
    "+ Mean Absolute Error\n",
    "+ Mean Squared Error"
   ]
  },
  {
   "cell_type": "code",
   "execution_count": 66,
   "metadata": {
    "execution": {
     "iopub.execute_input": "2021-01-14T12:35:15.301719Z",
     "iopub.status.busy": "2021-01-14T12:35:15.300981Z",
     "iopub.status.idle": "2021-01-14T12:35:15.305517Z",
     "shell.execute_reply": "2021-01-14T12:35:15.304921Z"
    },
    "papermill": {
     "duration": 0.111115,
     "end_time": "2021-01-14T12:35:15.305623",
     "exception": false,
     "start_time": "2021-01-14T12:35:15.194508",
     "status": "completed"
    },
    "tags": []
   },
   "outputs": [
    {
     "name": "stdout",
     "output_type": "stream",
     "text": [
      "r2 score is : 0.6121612766055358\n"
     ]
    }
   ],
   "source": [
    "#R2 Score\n",
    "from sklearn.metrics import r2_score\n",
    "R2rf = r2_score(y_test,y_predrf)\n",
    "print(\"r2 score is :\",R2rf)"
   ]
  },
  {
   "cell_type": "code",
   "execution_count": 67,
   "metadata": {
    "execution": {
     "iopub.execute_input": "2021-01-14T12:35:15.519504Z",
     "iopub.status.busy": "2021-01-14T12:35:15.518479Z",
     "iopub.status.idle": "2021-01-14T12:35:15.741148Z",
     "shell.execute_reply": "2021-01-14T12:35:15.740555Z"
    },
    "papermill": {
     "duration": 0.33346,
     "end_time": "2021-01-14T12:35:15.741255",
     "exception": false,
     "start_time": "2021-01-14T12:35:15.407795",
     "status": "completed"
    },
    "tags": []
   },
   "outputs": [
    {
     "name": "stdout",
     "output_type": "stream",
     "text": [
      "Adj. R2 of the train set 0.592500152462226\n",
      "Adj. R2 of the test set 0.6101019559503439\n"
     ]
    }
   ],
   "source": [
    "#Adjusted R2 Score\n",
    "def adj_r2 (X,y,model):\n",
    "    r_squared = model.score(X,y)\n",
    "    return(1 - (1-r_squared)*(len(y)-1)/(len(y)-X.shape[1]-1))\n",
    "\n",
    "#Checking Adjusted R2 score of the train and test datas \n",
    "print(\"Adj. R2 of the train set\",adj_r2(X_train,y_train,Rf))\n",
    "print(\"Adj. R2 of the test set\",adj_r2(X_test,y_test,Rf))"
   ]
  },
  {
   "cell_type": "code",
   "execution_count": 68,
   "metadata": {
    "execution": {
     "iopub.execute_input": "2021-01-14T12:35:15.953808Z",
     "iopub.status.busy": "2021-01-14T12:35:15.953168Z",
     "iopub.status.idle": "2021-01-14T12:35:15.959128Z",
     "shell.execute_reply": "2021-01-14T12:35:15.959909Z"
    },
    "papermill": {
     "duration": 0.116155,
     "end_time": "2021-01-14T12:35:15.960085",
     "exception": false,
     "start_time": "2021-01-14T12:35:15.843930",
     "status": "completed"
    },
    "tags": []
   },
   "outputs": [
    {
     "name": "stdout",
     "output_type": "stream",
     "text": [
      "Mean Absolute Error : 723.5525480396751\n",
      "Mean Squared Error : 1054134.0408609963\n"
     ]
    }
   ],
   "source": [
    "#Mean Abs. Error and Mean Squared Error\n",
    "from sklearn.metrics import mean_absolute_error,mean_squared_error\n",
    "MAErf = mean_absolute_error(y_test,y_predrf)\n",
    "MSErf = mean_squared_error(y_test,y_predrf)\n",
    "print(\"Mean Absolute Error :\",MAErf)\n",
    "print(\"Mean Squared Error :\",MSErf)"
   ]
  },
  {
   "cell_type": "markdown",
   "metadata": {
    "papermill": {
     "duration": 0.103031,
     "end_time": "2021-01-14T12:35:16.167600",
     "exception": false,
     "start_time": "2021-01-14T12:35:16.064569",
     "status": "completed"
    },
    "tags": []
   },
   "source": [
    "Let's compare the Results "
   ]
  },
  {
   "cell_type": "code",
   "execution_count": 69,
   "metadata": {
    "execution": {
     "iopub.execute_input": "2021-01-14T12:35:16.384713Z",
     "iopub.status.busy": "2021-01-14T12:35:16.384082Z",
     "iopub.status.idle": "2021-01-14T12:35:16.628071Z",
     "shell.execute_reply": "2021-01-14T12:35:16.627325Z"
    },
    "papermill": {
     "duration": 0.357575,
     "end_time": "2021-01-14T12:35:16.628222",
     "exception": false,
     "start_time": "2021-01-14T12:35:16.270647",
     "status": "completed"
    },
    "tags": []
   },
   "outputs": [
    {
     "name": "stdout",
     "output_type": "stream",
     "text": [
      "Linear Regression r2 score is : 0.5241348086667035\n",
      "Random Forest r2 score is : 0.6121612766055358\n",
      "-----------------------------------\n",
      "Linear Reg. Adj. R2 of the train set 0.503112203319487\n",
      "Random Forest Adj. R2 of the train set 0.592500152462226\n",
      "Linear Reg.Adj. R2 of the test set 0.5216080908366152\n",
      "Random Forest Adj. R2 of the test set 0.6101019559503439\n",
      "-----------------------------------\n",
      "Linear Regression Mean Absolute Error : 856.0338972476161\n",
      "Linear Regression Mean Squared Error : 1293387.3457887392\n",
      "Random Forest Mean Absolute Error : 723.5525480396751\n",
      "Random Forest Mean Squared Error : 1054134.0408609963\n"
     ]
    }
   ],
   "source": [
    "print(\"Linear Regression r2 score is :\",R2)\n",
    "print(\"Random Forest r2 score is :\",R2rf)\n",
    "print(\"-----------------------------------\")\n",
    "print(\"Linear Reg. Adj. R2 of the train set\",adj_r2(X_train,y_train,Lr))\n",
    "print(\"Random Forest Adj. R2 of the train set\",adj_r2(X_train,y_train,Rf))\n",
    "print(\"Linear Reg.Adj. R2 of the test set\",adj_r2(X_test,y_test,Lr))\n",
    "print(\"Random Forest Adj. R2 of the test set\",adj_r2(X_test,y_test,Rf))\n",
    "print(\"-----------------------------------\")\n",
    "print(\"Linear Regression Mean Absolute Error :\",MAE)\n",
    "print(\"Linear Regression Mean Squared Error :\",MSE)\n",
    "print(\"Random Forest Mean Absolute Error :\",MAErf)\n",
    "print(\"Random Forest Mean Squared Error :\",MSErf)"
   ]
  },
  {
   "cell_type": "markdown",
   "metadata": {
    "papermill": {
     "duration": 0.105507,
     "end_time": "2021-01-14T12:35:16.840436",
     "exception": false,
     "start_time": "2021-01-14T12:35:16.734929",
     "status": "completed"
    },
    "tags": []
   },
   "source": [
    "### Conclsion\n",
    "- **Clearly Random Forest more accurate than the Linear Regression for this problem** \n",
    "- Thanks"
   ]
  },
  {
   "cell_type": "code",
   "execution_count": null,
   "metadata": {
    "papermill": {
     "duration": 0.104488,
     "end_time": "2021-01-14T12:35:17.048980",
     "exception": false,
     "start_time": "2021-01-14T12:35:16.944492",
     "status": "completed"
    },
    "tags": []
   },
   "outputs": [],
   "source": []
  }
 ],
 "metadata": {
  "kernelspec": {
   "display_name": "Python 3",
   "language": "python",
   "name": "python3"
  },
  "language_info": {
   "codemirror_mode": {
    "name": "ipython",
    "version": 3
   },
   "file_extension": ".py",
   "mimetype": "text/x-python",
   "name": "python",
   "nbconvert_exporter": "python",
   "pygments_lexer": "ipython3",
   "version": "3.7.6"
  },
  "papermill": {
   "duration": 34.311908,
   "end_time": "2021-01-14T12:35:17.259531",
   "environment_variables": {},
   "exception": null,
   "input_path": "__notebook__.ipynb",
   "output_path": "__notebook__.ipynb",
   "parameters": {},
   "start_time": "2021-01-14T12:34:42.947623",
   "version": "2.1.0"
  }
 },
 "nbformat": 4,
 "nbformat_minor": 4
}
